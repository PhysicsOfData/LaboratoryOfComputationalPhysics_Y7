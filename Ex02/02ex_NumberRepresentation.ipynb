{
 "cells": [
  {
   "cell_type": "code",
   "execution_count": 41,
   "metadata": {},
   "outputs": [],
   "source": [
    "import numpy as np\n",
    "import matplotlib\n",
    "from matplotlib import pyplot as pl"
   ]
  },
  {
   "cell_type": "markdown",
   "metadata": {},
   "source": [
    "1\\. Write a function that converts number representation, bin<->dec<->hex. (Clearly using the corresponding python built-in functions is not fair..)"
   ]
  },
  {
   "cell_type": "code",
   "execution_count": null,
   "metadata": {},
   "outputs": [
    {
     "name": "stdout",
     "output_type": "stream",
     "text": [
      "18\n"
     ]
    }
   ],
   "source": [
    "#binary to deciaml\n",
    "def bin_todec(x_bin):\n",
    "    x = str(x_bin)\n",
    "    sz = len(x)\n",
    "    val = 0\n",
    "    for i in range(sz):\n",
    "        if x[i] != '1' and x[i] != '0': \n",
    "            print(\"Error:\", x[i], \"is not 0 or 1\")\n",
    "            break\n",
    "        val += int(x[i])*2**(sz-i-1)\n",
    "    return val\n",
    "print(bin_todec(10010))"
   ]
  },
  {
   "cell_type": "code",
   "execution_count": null,
   "metadata": {},
   "outputs": [
    {
     "name": "stdout",
     "output_type": "stream",
     "text": [
      "10001\n"
     ]
    }
   ],
   "source": [
    "#deciaml to binary\n",
    "def ms_bit(x_dec): # most significant bit  ex: ms_bit(7) = 100\n",
    "    N = 0\n",
    "    while True:\n",
    "        if x_dec < 2**N: break\n",
    "        else: N += 1\n",
    "    return 10**(N-1)\n",
    "\n",
    "def dec_tobin(x_dec):\n",
    "    value = 0\n",
    "    temp = x_dec\n",
    "    while temp != 0:\n",
    "        value += ms_bit(temp)\n",
    "        temp -= bin_todec(ms_bit(temp))\n",
    "    return value\n",
    "\n",
    "print(dec_tobin(17))\n"
   ]
  },
  {
   "cell_type": "code",
   "execution_count": 122,
   "metadata": {},
   "outputs": [
    {
     "name": "stdout",
     "output_type": "stream",
     "text": [
      "256\n"
     ]
    }
   ],
   "source": [
    "#hexadeciaml to decimal\n",
    "cnvrt = {\"0\":0, \"1\":1, \"2\":2, \"3\":3, \"4\":4, \"5\":5, \"6\":6, \"7\":7, \"8\":8, \"9\":9, \"A\":10, \"B\":11, \"C\":12, \"D\":13, \"E\":14, \"F\":15}\n",
    "def hex_todec(x_hex):\n",
    "    sz = len(x_hex)\n",
    "    value = 0\n",
    "    for i in range(sz):\n",
    "        value += cnvrt[x_hex[i]]*16**(sz-i-1)\n",
    "    return value\n",
    "print(hex_todec(\"100\"))\n"
   ]
  },
  {
   "cell_type": "code",
   "execution_count": null,
   "metadata": {},
   "outputs": [
    {
     "name": "stdout",
     "output_type": "stream",
     "text": [
      "23\n"
     ]
    }
   ],
   "source": [
    "#decimal to hexadecimal\n",
    "def ms_digit(x_dec): # most significant bit  ex: ms_digit(21) = 10\n",
    "    N = 0\n",
    "    while True:\n",
    "        if x_dec < 16**N: break\n",
    "        else: N += 1\n",
    "    return 10**(N-1)\n",
    "\n",
    "def dec_tohex(x_dec):\n",
    "    value = 0\n",
    "    temp = x_dec\n",
    "    while temp != 0:\n",
    "        value += ms_digit(temp)\n",
    "        temp -= hex_todec(str(ms_digit(temp)))\n",
    "    return value\n",
    "\n",
    "print(dec_tohex(29))"
   ]
  },
  {
   "cell_type": "markdown",
   "metadata": {},
   "source": [
    "2\\. Write a function that converts a 32 bit word into a single precision floating point (i.e. interprets the various bits as sign, mantissa and exponent)"
   ]
  },
  {
   "cell_type": "code",
   "execution_count": 84,
   "metadata": {},
   "outputs": [
    {
     "data": {
      "text/plain": [
       "4.6265478971977105e+19"
      ]
     },
     "execution_count": 84,
     "metadata": {},
     "output_type": "execute_result"
    }
   ],
   "source": [
    "def float_32(word):\n",
    "    if len(word) != 32: \n",
    "        print(\"Given word has not 32 bit\")\n",
    "        return 0\n",
    "    sgn =  int(word[0])\n",
    "    exp = word[1:9]\n",
    "    mnt = word[9:]\n",
    "    \n",
    "    fract = 1\n",
    "    j = 1\n",
    "    for bit in mnt: \n",
    "        fract += int(bit)*2**-j\n",
    "        j += 1\n",
    "\n",
    "    power = 2**(bin_todec(int(exp)) - 127)\n",
    "\n",
    "    val = (-1)**sgn * fract * power\n",
    "    return val\n",
    "\n",
    "float_32(\"01100000001000001000010000000000\")\n"
   ]
  },
  {
   "cell_type": "markdown",
   "metadata": {},
   "source": [
    "3\\. Write a program to determine the underflow and overflow limits (within a factor of 2) for python on your computer. \n",
    "\n",
    "**Tips**: define two variables inizialized to 1 and halve/double them enough time to exceed the under/over-flow limits  "
   ]
  },
  {
   "cell_type": "markdown",
   "metadata": {},
   "source": [
    "4\\. Write a program to determine the machine precision\n",
    "\n",
    "**Tips**: define a new variable by adding a smaller and smaller value (proceeding similarly to prob. 2) to an original variable and check the point where the two are the same "
   ]
  },
  {
   "cell_type": "markdown",
   "metadata": {},
   "source": [
    "5\\. Write a function that takes in input three parameters $a$, $b$ and $c$ and prints out the two solutions to the quadratic equation $ax^2+bx+c=0$ using the standard formula:\n",
    "$$\n",
    "x=\\frac{-b\\pm\\sqrt{b^2-4ac}}{2a}\n",
    "$$\n",
    "\n",
    "(a) use the program to compute the solution for $a=0.001$, $b=1000$ and $c=0.001$\n",
    "\n",
    "(b) re-express the standard solution formula by multiplying top and bottom by $-b\\mp\\sqrt{b^2-4ac}$ and again find the solution for $a=0.001$, $b=1000$ and $c=0.001$. How does it compare with what previously obtained? Why?\n",
    "\n",
    "(c) write a function that compute the roots of a quadratic equation accurately in all cases"
   ]
  },
  {
   "cell_type": "code",
   "execution_count": 14,
   "metadata": {},
   "outputs": [],
   "source": [
    "def quadratic(a, b, c):\n",
    "    val = [(-b + np.sqrt(b**2 - 4*a*c))/(2*a), (-b - np.sqrt(b**2 - 4*a*c))/(2*a)]\n",
    "    return val"
   ]
  },
  {
   "cell_type": "code",
   "execution_count": 17,
   "metadata": {},
   "outputs": [
    {
     "name": "stdout",
     "output_type": "stream",
     "text": [
      "[-9.999894245993346e-07, -999999.999999]\n"
     ]
    }
   ],
   "source": [
    "# a\n",
    "print(quadratic(0.001, 1000, 0.001))"
   ]
  },
  {
   "cell_type": "code",
   "execution_count": 16,
   "metadata": {},
   "outputs": [
    {
     "name": "stdout",
     "output_type": "stream",
     "text": [
      "[-1.0000000000009999e-06, -1000010.5755125057]\n"
     ]
    }
   ],
   "source": [
    "# b\n",
    "def quadratic2(a, b, c):\n",
    "    val = [(4*a*c)/(2*a * (-b - np.sqrt(b**2 - 4*a*c))), (4*a*c)/(2*a * (-b + np.sqrt(b**2 - 4*a*c)))]\n",
    "    return val\n",
    "print(quadratic2(0.001, 1000, 0.001))"
   ]
  },
  {
   "cell_type": "markdown",
   "metadata": {},
   "source": [
    "6\\. Write a program that implements the function $f(x)=x(x−1)$\n",
    "\n",
    "(a) Calculate the derivative of the function at the point $x = 1$ using the derivative definition:\n",
    "\n",
    "$$\n",
    "\\frac{{\\rm d}f}{{\\rm d}x} = \\lim_{\\delta\\to0} \\frac{f(x+\\delta)-f(x)}{\\delta}\n",
    "$$\n",
    "\n",
    "with $\\delta = 10^{−2}$. Calculate the true value of the same derivative analytically and compare with the answer your program gives. The two will not agree perfectly. Why not?\n",
    "\n",
    "(b) Repeat the calculation for $\\delta = 10^{−4}, 10^{−6}, 10^{−8}, 10^{−10}, 10^{−12}$ and $10^{−14}$. How does the accuracy scales with $\\delta$?"
   ]
  },
  {
   "cell_type": "code",
   "execution_count": 25,
   "metadata": {},
   "outputs": [
    {
     "name": "stdout",
     "output_type": "stream",
     "text": [
      "Definition: f'(1) = 1.010000000000001\n",
      "Analitical: f'(1) = 1\n"
     ]
    }
   ],
   "source": [
    "# a\n",
    "def f(x): return x*(x-1)\n",
    "def Df_(x, delta):\n",
    "    val = (f(x + delta) - f(x))/delta\n",
    "    return val\n",
    "def Df(x): return 2*x - 1\n",
    "\n",
    "print(\"Definition: f'(1) =\", Df_(1, 10**-2))\n",
    "print(\"Analitical: f'(1) =\", Df(1))\n",
    "#Value are different because delta is not close enough to 0"
   ]
  },
  {
   "cell_type": "code",
   "execution_count": 33,
   "metadata": {},
   "outputs": [
    {
     "name": "stdout",
     "output_type": "stream",
     "text": [
      "Analitical: f'(1) = 1\n",
      "Definition: f'(1) = 1.0000999999998899 with delta =  0.0001\n",
      "Error: 9.999999988985486e-07 %\n",
      "Definition: f'(1) = 1.0000100000065513 with delta =  1e-05\n",
      "Error: 1.0000006551269535e-07 %\n",
      "Definition: f'(1) = 1.0000009999177333 with delta =  1e-06\n",
      "Error: 9.999177332797871e-09 %\n",
      "Definition: f'(1) = 1.0000001005838672 with delta =  1e-07\n",
      "Error: 1.005838672352155e-09 %\n",
      "Definition: f'(1) = 1.0000000039225287 with delta =  1e-08\n",
      "Error: 3.9225287462585354e-11 %\n",
      "Definition: f'(1) = 1.000000083740371 with delta =  1e-09\n",
      "Error: 8.374037108183075e-10 %\n",
      "Definition: f'(1) = 1.000000082840371 with delta =  1e-10\n",
      "Error: 8.284037100736441e-10 %\n",
      "Definition: f'(1) = 1.000000082750371 with delta =  1e-11\n",
      "Error: 8.275037099991778e-10 %\n",
      "Definition: f'(1) = 1.0000889005833413 with delta =  1e-12\n",
      "Error: 8.890058334132256e-07 %\n",
      "Definition: f'(1) = 0.9992007221627407 with delta =  1e-13\n",
      "Error: 7.992778372593045e-06 %\n"
     ]
    }
   ],
   "source": [
    "deltas = [10**-m for m in range(4, 14)]\n",
    "print(\"Analitical: f'(1) =\", Df(1))\n",
    "for d in deltas:\n",
    "    print(\"Definition: f'(1) =\", Df_(1, d), \"with delta = \", d)\n",
    "    print(\"Error:\", abs(Df(1) - Df_(1, d))/100, \"%\")\n"
   ]
  },
  {
   "cell_type": "markdown",
   "metadata": {},
   "source": [
    "7\\. Consider the integral of the semicircle of radius 1:\n",
    "$$\n",
    "I=\\int_{-1}^{1} \\sqrt(1-x^2) {\\rm d}x\n",
    "$$\n",
    "which it's known to be $I=\\frac{\\pi}{2}=1.57079632679...$.\n",
    "Alternatively we can use the Riemann definition of the integral:\n",
    "$$\n",
    "I=\\lim_{N\\to\\infty} \\sum_{k=1}^{N} h y_k \n",
    "$$\n",
    "\n",
    "with $h=2/N$ the width of each of the $N$ slices the domain is divided into and where\n",
    "$y_k$ is the value of the function at the $k-$th slice. We can rewrite $I$ as\n",
    "$$\n",
    "I=\\lim_{N\\to\\infty} \\sum_{k=1}^{N} \\frac{2}{N} \\sqrt(1 - (\\frac{2}{N}(K - \\frac{N}{2}))^2) =\n",
    " \\lim_{N\\to\\infty} \\sum_{k=1}^{N} \\frac{2}{N} \\sqrt(1 - (\\frac{2}{N}K - 1)^2)\n",
    "$$\n",
    "(a) Write a programe to compute the integral with $N=100$. How does the result compares to the true value?\n",
    "\n",
    "(b) How much can $N$ be increased if the computation needs to be run in less than a second? What is the gain in running it for 1 minute? \n"
   ]
  },
  {
   "cell_type": "code",
   "execution_count": null,
   "metadata": {},
   "outputs": [
    {
     "name": "stdout",
     "output_type": "stream",
     "text": [
      "Result:  1.5691342555492505\n"
     ]
    }
   ],
   "source": [
    "# a \n",
    "N = 100\n",
    "def integral(N):\n",
    "    S = 0\n",
    "    for i in range(N):\n",
    "        S += (2/N)*np.sqrt(1 - (2*i/N - 1)**2)\n",
    "    return S\n",
    "print(\"Result:\", integral(100))"
   ]
  },
  {
   "cell_type": "code",
   "execution_count": 51,
   "metadata": {},
   "outputs": [
    {
     "name": "stdout",
     "output_type": "stream",
     "text": [
      "Analitical:  1.5707963267948966\n",
      "Result: 1.5185244144417758 for N = 10\n",
      "Error: 0.0005227191235312079\n",
      "Result: 1.5691342555492505 for N = 100\n",
      "Error: 1.6620712456461018e-05\n",
      "Result: 1.570743738501071 for N = 1000\n",
      "Error: 5.258829382559504e-07\n",
      "Result: 1.5707946637152914 for N = 10000\n",
      "Error: 1.6630796051408937e-08\n",
      "Result: 1.5707962742034225 for N = 100000\n",
      "Error: 5.259147406455611e-10\n"
     ]
    }
   ],
   "source": [
    "# b\n",
    "N = [10**k for k in range(1,6)]\n",
    "err = []\n",
    "print(\"Analitical: \", np.pi/2)\n",
    "for k in N:\n",
    "    print(\"Result:\", integral(k), \"for N =\", k)\n",
    "    print(\"Error:\", abs(np.pi/2 - integral(k))/100)\n",
    "    err.append(abs(np.pi/2 - integral(k))/100)"
   ]
  },
  {
   "cell_type": "code",
   "execution_count": 52,
   "metadata": {},
   "outputs": [
    {
     "data": {
      "image/png": "[encoded data removed]",
      "text/plain": [
       "<Figure size 640x480 with 1 Axes>"
      ]
     },
     "metadata": {},
     "output_type": "display_data"
    }
   ],
   "source": [
    "pl.plot(N, err, '.')\n",
    "pl.xlabel(\"N\")\n",
    "pl.grid()\n",
    "pl.ylabel(\"error\")\n",
    "pl.xscale(\"log\")\n",
    "pl.yscale(\"log\")\n",
    "pl.show()"
   ]
  }
 ],
 "metadata": {
  "kernelspec": {
   "display_name": "base",
   "language": "python",
   "name": "python3"
  },
  "language_info": {
   "codemirror_mode": {
    "name": "ipython",
    "version": 3
   },
   "file_extension": ".py",
   "mimetype": "text/x-python",
   "name": "python",
   "nbconvert_exporter": "python",
   "pygments_lexer": "ipython3",
   "version": "3.12.4"
  }
 },
 "nbformat": 4,
 "nbformat_minor": 2
}
