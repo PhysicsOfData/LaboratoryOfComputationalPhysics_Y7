{
 "cells": [
  {
   "cell_type": "markdown",
   "metadata": {},
   "source": [
    "1\\. Write a function that converts number representation, bin<->dec<->hex. (Clearly using the corresponding python built-in functions is not fair..)"
   ]
  },
  {
   "cell_type": "code",
   "execution_count": 30,
   "metadata": {},
   "outputs": [
    {
     "name": "stdout",
     "output_type": "stream",
     "text": [
      "(190, 'BE')\n"
     ]
    }
   ],
   "source": [
    "def esadecimale_a_binario(hex_num):\n",
    "    hex_to_bin = {\n",
    "        '0': '0000', '1': '0001', '2': '0010', '3': '0011',\n",
    "        '4': '0100', '5': '0101', '6': '0110', '7': '0111',\n",
    "        '8': '1000', '9': '1001', 'A': '1010', 'B': '1011',\n",
    "        'C': '1100', 'D': '1101', 'E': '1110', 'F': '1111'\n",
    "    }\n",
    "    \n",
    "    binario = ''\n",
    "    hex_n = str(hex_num)\n",
    "    for char in hex_n:\n",
    "        binario += hex_to_bin[char.upper()]\n",
    "    binario = binario.lstrip('0')\n",
    "    \n",
    "    return binario\n",
    "\n",
    "def binario_a_decimale(binario):\n",
    "    decimale = 0\n",
    "    potenza = len(binario) - 1\n",
    "    \n",
    "    for cifra in binario:\n",
    "        decimale += int(cifra) * (2 ** potenza)\n",
    "        potenza -= 1\n",
    "    \n",
    "    return decimale\n",
    "\n",
    "def decimale_a_esadecimale(decimale):\n",
    "    if decimale == 0:\n",
    "        return '0'\n",
    "    \n",
    "    esadecimale = ''\n",
    "    cifre = \"0123456789ABCDEF\"\n",
    "\n",
    "    decimale = int(decimale)\n",
    "    \n",
    "    while decimale > 0:\n",
    "        resto = decimale % 16\n",
    "        esadecimale = cifre[resto] + esadecimale\n",
    "        decimale = decimale // 16\n",
    "    \n",
    "    return esadecimale\n",
    "\n",
    "def decimale_a_binario(decimale):\n",
    "    if decimale == 0:\n",
    "        return '0'\n",
    "    \n",
    "    binario = ''\n",
    "\n",
    "    decimale = int(decimale)\n",
    "    while decimale > 0:\n",
    "        resto = decimale % 2\n",
    "        binario = str(resto) + binario\n",
    "        decimale = decimale // 2\n",
    "    \n",
    "    return binario\n",
    "\n",
    "def bin_to_hex (n,t):\n",
    "    if t == \"h\":\n",
    "        return esadecimale_a_binario(n), binario_a_decimale(esadecimale_a_binario(n))     \n",
    "    elif t == 'd':\n",
    "        return decimale_a_esadecimale(n), decimale_a_binario(n)\n",
    "    else:\n",
    "        return binario_a_decimale(n), decimale_a_esadecimale(binario_a_decimale(n))  \n",
    "\n",
    "print(bin_to_hex(\"10111110\",\"b\"))"
   ]
  },
  {
   "cell_type": "markdown",
   "metadata": {},
   "source": [
    "2\\. Write a function that converts a 32 bit word into a single precision floating point (i.e. interprets the various bits as sign, mantissa and exponent)"
   ]
  },
  {
   "cell_type": "code",
   "execution_count": 53,
   "metadata": {},
   "outputs": [
    {
     "name": "stdout",
     "output_type": "stream",
     "text": [
      "The word ssss converted into a 32 bit floating point number is 76730333065550625251658786471998914560\n"
     ]
    }
   ],
   "source": [
    "import numpy as np\n",
    "\n",
    "def word_to_float(word):\n",
    "    w = \"\".join(format(ord(x),'08b') for x in word)\n",
    "    if w[0] == 1: sign = -1\n",
    "    else: sign = 1\n",
    "    exp = binario_a_decimale(w[1:9])\n",
    "    mantissa = binario_a_decimale(w[9:32])\n",
    "    return sign*mantissa*2**(exp-127)\n",
    "\n",
    "wa = \"ssss\"\n",
    "\n",
    "print(\"The word\",wa,\"converted into a 32 bit floating point number is\",word_to_float(wa))"
   ]
  },
  {
   "cell_type": "markdown",
   "metadata": {},
   "source": [
    "3\\. Write a program to determine the underflow and overflow limits (within a factor of 2) for python on your computer. \n",
    "\n",
    "**Tips**: define two variables inizialized to 1 and halve/double them enough time to exceed the under/over-flow limits  "
   ]
  },
  {
   "cell_type": "code",
   "execution_count": 85,
   "metadata": {},
   "outputs": [
    {
     "name": "stdout",
     "output_type": "stream",
     "text": [
      "Your underflow limit is 5e-324\n",
      "Your overflow limit is 8.98846567431158e+307\n"
     ]
    }
   ],
   "source": [
    "over, under = 1.0,1.0\n",
    "\n",
    "while under > 0.0:\n",
    "    under_0 = under\n",
    "    under = under/2\n",
    "    \n",
    "print('Your underflow limit is',under_0)\n",
    "\n",
    "counter = 0\n",
    "while 1:\n",
    "    over_1 = over_0\n",
    "    over_0 = over\n",
    "    over *= 2\n",
    "    if over_0 == over:\n",
    "        break\n",
    "        \n",
    "print('Your overflow limit is',over_1)"
   ]
  },
  {
   "cell_type": "markdown",
   "metadata": {},
   "source": [
    "4\\. Write a program to determine the machine precision\n",
    "\n",
    "**Tips**: define a new variable by adding a smaller and smaller value (proceeding similarly to prob. 2) to an original variable and check the point where the two are the same "
   ]
  },
  {
   "cell_type": "code",
   "execution_count": 161,
   "metadata": {},
   "outputs": [
    {
     "name": "stdout",
     "output_type": "stream",
     "text": [
      "2.202056903144880006806261008023284375667572021484375000000000\n",
      "The precision machine is  52\n"
     ]
    }
   ],
   "source": [
    "v, v_0 = 1.0, 0\n",
    "\n",
    "count = 0\n",
    "while v > v_0:\n",
    "    count +=1\n",
    "    v_0 = v\n",
    "    v += 1/count**3\n",
    "print(format(v_0,'.60f'))\n",
    "\n",
    "count = 0\n",
    "for x in str(format(v_0,'.60f'))[::-1]:\n",
    "    count += 1\n",
    "    if x != \"0\":\n",
    "        print(\"The precision machine is \",len(str(format(v_0, '.60f')))-count)\n",
    "        break"
   ]
  },
  {
   "cell_type": "markdown",
   "metadata": {},
   "source": [
    "5\\. Write a function that takes in input three parameters $a$, $b$ and $c$ and prints out the two solutions to the quadratic equation $ax^2+bx+c=0$ using the standard formula:\n",
    "$$\n",
    "x=\\frac{-b\\pm\\sqrt{b^2-4ac}}{2a}\n",
    "$$\n",
    "\n",
    "(a) use the program to compute the solution for $a=0.001$, $b=1000$ and $c=0.001$\n",
    "\n",
    "(b) re-express the standard solution formula by multiplying top and bottom by $-b\\mp\\sqrt{b^2-4ac}$ and again find the solution for $a=0.001$, $b=1000$ and $c=0.001$. How does it compare with what previously obtained? Why?\n",
    "\n",
    "(c) write a function that compute the roots of a quadratic equation accurately in all cases"
   ]
  },
  {
   "cell_type": "code",
   "execution_count": 106,
   "metadata": {},
   "outputs": [
    {
     "name": "stdout",
     "output_type": "stream",
     "text": [
      "(-9.999894245993346e-07, -999999.999999)\n",
      "(-998.9990000085775, 1000000998.999)\n"
     ]
    }
   ],
   "source": [
    "def quad_eq(a,b,c):\n",
    "    return (-b+np.sqrt(b**2-4*a*c))/2/a, (-b-np.sqrt(b**2-4*a*c))/2/a\n",
    "\n",
    "def quad_eq_2(a,b,c):\n",
    "    return (-b+np.sqrt(b**2-4*a*c))/2/a*-b-np.sqrt(b**2-4*a*c)/-b-np.sqrt(b**2-4*a*c), (-b-np.sqrt(b**2-4*a*c))/2/a*-b+np.sqrt(b**2-4*a*c)/-b+np.sqrt(b**2-4*a*c)\n",
    "\n",
    "a,b,c = 0.001,1000,0.001\n",
    "\n",
    "print(quad_eq(a,b,c))\n",
    "print(quad_eq_2(a,b,c))"
   ]
  },
  {
   "cell_type": "markdown",
   "metadata": {},
   "source": [
    "6\\. Write a program that implements the function $f(x)=x(x−1)$\n",
    "\n",
    "(a) Calculate the derivative of the function at the point $x = 1$ using the derivative definition:\n",
    "\n",
    "$$\n",
    "\\frac{{\\rm d}f}{{\\rm d}x} = \\lim_{\\delta\\to0} \\frac{f(x+\\delta)-f(x)}{\\delta}\n",
    "$$\n",
    "\n",
    "with $\\delta = 10^{−2}$. Calculate the true value of the same derivative analytically and compare with the answer your program gives. The two will not agree perfectly. Why not?\n",
    "\n",
    "(b) Repeat the calculation for $\\delta = 10^{−4}, 10^{−6}, 10^{−8}, 10^{−10}, 10^{−12}$ and $10^{−14}$. How does the accuracy scales with $\\delta$?"
   ]
  },
  {
   "cell_type": "code",
   "execution_count": 112,
   "metadata": {},
   "outputs": [
    {
     "name": "stdout",
     "output_type": "stream",
     "text": [
      "-0.9999999950247591\n"
     ]
    }
   ],
   "source": [
    "def f(x):\n",
    "    return x*(x-1)\n",
    "\n",
    "delta = 10**-8\n",
    "\n",
    "x = 1\n",
    "der_1 = (f(x-delta)-f(x))/delta\n",
    "print(der_1)"
   ]
  },
  {
   "cell_type": "markdown",
   "metadata": {},
   "source": [
    "7\\. Consider the integral of the semicircle of radius 1:\n",
    "$$\n",
    "I=\\int_{-1}^{1} \\sqrt(1-x^2) {\\rm d}x\n",
    "$$\n",
    "which it's known to be $I=\\frac{\\pi}{2}=1.57079632679...$.\n",
    "Alternatively we can use the Riemann definition of the integral:\n",
    "$$\n",
    "I=\\lim_{N\\to\\infty} \\sum_{k=1}^{N} h y_k \n",
    "$$\n",
    "\n",
    "with $h=2/N$ the width of each of the $N$ slices the domain is divided into and where\n",
    "$y_k$ is the value of the function at the $k-$th slice.\n",
    "\n",
    "(a) Write a programe to compute the integral with $N=100$. How does the result compares to the true value?\n",
    "\n",
    "(b) How much can $N$ be increased if the computation needs to be run in less than a second? What is the gain in running it for 1 minute? \n"
   ]
  },
  {
   "cell_type": "code",
   "execution_count": 150,
   "metadata": {},
   "outputs": [
    {
     "name": "stdout",
     "output_type": "stream",
     "text": [
      "1.5706957388056586\n",
      "0.00010058798923795464\n"
     ]
    },
    {
     "ename": "KeyboardInterrupt",
     "evalue": "",
     "output_type": "error",
     "traceback": [
      "\u001b[0;31m---------------------------------------------------------------------------\u001b[0m",
      "\u001b[0;31mKeyboardInterrupt\u001b[0m                         Traceback (most recent call last)",
      "\u001b[0;32m<ipython-input-150-faa084d5192f>\u001b[0m in \u001b[0;36m<module>\u001b[0;34m\u001b[0m\n\u001b[1;32m     12\u001b[0m     \u001b[0mN\u001b[0m \u001b[0;34m+=\u001b[0m \u001b[0;36m100\u001b[0m\u001b[0;34m\u001b[0m\u001b[0;34m\u001b[0m\u001b[0m\n\u001b[1;32m     13\u001b[0m     \u001b[0mt_i\u001b[0m \u001b[0;34m=\u001b[0m \u001b[0mtime\u001b[0m\u001b[0;34m.\u001b[0m\u001b[0mtime\u001b[0m\u001b[0;34m(\u001b[0m\u001b[0;34m)\u001b[0m\u001b[0;34m\u001b[0m\u001b[0;34m\u001b[0m\u001b[0m\n\u001b[0;32m---> 14\u001b[0;31m     \u001b[0mI\u001b[0m \u001b[0;34m=\u001b[0m \u001b[0msum\u001b[0m\u001b[0;34m(\u001b[0m\u001b[0;36m2\u001b[0m\u001b[0;34m/\u001b[0m\u001b[0mN\u001b[0m\u001b[0;34m*\u001b[0m\u001b[0mnp\u001b[0m\u001b[0;34m.\u001b[0m\u001b[0msqrt\u001b[0m\u001b[0;34m(\u001b[0m\u001b[0;36m1\u001b[0m\u001b[0;34m-\u001b[0m\u001b[0;34m(\u001b[0m\u001b[0mx\u001b[0m\u001b[0;34m/\u001b[0m\u001b[0mN\u001b[0m\u001b[0;34m)\u001b[0m\u001b[0;34m**\u001b[0m\u001b[0;36m2\u001b[0m\u001b[0;34m)\u001b[0m \u001b[0;32mfor\u001b[0m \u001b[0mx\u001b[0m \u001b[0;32min\u001b[0m \u001b[0mrange\u001b[0m\u001b[0;34m(\u001b[0m\u001b[0;36m1\u001b[0m\u001b[0;34m,\u001b[0m\u001b[0mN\u001b[0m\u001b[0;34m)\u001b[0m\u001b[0;34m)\u001b[0m\u001b[0;34m\u001b[0m\u001b[0;34m\u001b[0m\u001b[0m\n\u001b[0m\u001b[1;32m     15\u001b[0m     \u001b[0mt\u001b[0m\u001b[0;34m=\u001b[0m\u001b[0mtime\u001b[0m\u001b[0;34m.\u001b[0m\u001b[0mtime\u001b[0m\u001b[0;34m(\u001b[0m\u001b[0;34m)\u001b[0m\u001b[0;34m-\u001b[0m\u001b[0mt_i\u001b[0m\u001b[0;34m\u001b[0m\u001b[0;34m\u001b[0m\u001b[0m\n\u001b[1;32m     16\u001b[0m \u001b[0mprint\u001b[0m\u001b[0;34m(\u001b[0m\u001b[0mI\u001b[0m\u001b[0;34m,\u001b[0m\u001b[0mt\u001b[0m\u001b[0;34m)\u001b[0m\u001b[0;34m\u001b[0m\u001b[0;34m\u001b[0m\u001b[0m\n",
      "\u001b[0;32m<ipython-input-150-faa084d5192f>\u001b[0m in \u001b[0;36m<genexpr>\u001b[0;34m(.0)\u001b[0m\n\u001b[1;32m     12\u001b[0m     \u001b[0mN\u001b[0m \u001b[0;34m+=\u001b[0m \u001b[0;36m100\u001b[0m\u001b[0;34m\u001b[0m\u001b[0;34m\u001b[0m\u001b[0m\n\u001b[1;32m     13\u001b[0m     \u001b[0mt_i\u001b[0m \u001b[0;34m=\u001b[0m \u001b[0mtime\u001b[0m\u001b[0;34m.\u001b[0m\u001b[0mtime\u001b[0m\u001b[0;34m(\u001b[0m\u001b[0;34m)\u001b[0m\u001b[0;34m\u001b[0m\u001b[0;34m\u001b[0m\u001b[0m\n\u001b[0;32m---> 14\u001b[0;31m     \u001b[0mI\u001b[0m \u001b[0;34m=\u001b[0m \u001b[0msum\u001b[0m\u001b[0;34m(\u001b[0m\u001b[0;36m2\u001b[0m\u001b[0;34m/\u001b[0m\u001b[0mN\u001b[0m\u001b[0;34m*\u001b[0m\u001b[0mnp\u001b[0m\u001b[0;34m.\u001b[0m\u001b[0msqrt\u001b[0m\u001b[0;34m(\u001b[0m\u001b[0;36m1\u001b[0m\u001b[0;34m-\u001b[0m\u001b[0;34m(\u001b[0m\u001b[0mx\u001b[0m\u001b[0;34m/\u001b[0m\u001b[0mN\u001b[0m\u001b[0;34m)\u001b[0m\u001b[0;34m**\u001b[0m\u001b[0;36m2\u001b[0m\u001b[0;34m)\u001b[0m \u001b[0;32mfor\u001b[0m \u001b[0mx\u001b[0m \u001b[0;32min\u001b[0m \u001b[0mrange\u001b[0m\u001b[0;34m(\u001b[0m\u001b[0;36m1\u001b[0m\u001b[0;34m,\u001b[0m\u001b[0mN\u001b[0m\u001b[0;34m)\u001b[0m\u001b[0;34m)\u001b[0m\u001b[0;34m\u001b[0m\u001b[0;34m\u001b[0m\u001b[0m\n\u001b[0m\u001b[1;32m     15\u001b[0m     \u001b[0mt\u001b[0m\u001b[0;34m=\u001b[0m\u001b[0mtime\u001b[0m\u001b[0;34m.\u001b[0m\u001b[0mtime\u001b[0m\u001b[0;34m(\u001b[0m\u001b[0;34m)\u001b[0m\u001b[0;34m-\u001b[0m\u001b[0mt_i\u001b[0m\u001b[0;34m\u001b[0m\u001b[0;34m\u001b[0m\u001b[0m\n\u001b[1;32m     16\u001b[0m \u001b[0mprint\u001b[0m\u001b[0;34m(\u001b[0m\u001b[0mI\u001b[0m\u001b[0;34m,\u001b[0m\u001b[0mt\u001b[0m\u001b[0;34m)\u001b[0m\u001b[0;34m\u001b[0m\u001b[0;34m\u001b[0m\u001b[0m\n",
      "\u001b[0;31mKeyboardInterrupt\u001b[0m: "
     ]
    }
   ],
   "source": [
    "#a)\n",
    "N = 10000\n",
    "I = sum(2/N*np.sqrt(1-(x/N)**2) for x in range(1,N))\n",
    "print(I)\n",
    "print(np.pi/2-I)\n",
    "\n",
    "#b)\n",
    "import time\n",
    "\n",
    "t = 0\n",
    "while t<1:\n",
    "    N += 100\n",
    "    t_i = time.time()\n",
    "    I = sum(2/N*np.sqrt(1-(x/N)**2) for x in range(1,N))\n",
    "    t=time.time()-t_i\n",
    "print(I,t)\n",
    "I_1 = I\n",
    "\n",
    "t = 0\n",
    "while t<60:\n",
    "    N += 1000\n",
    "    t_i = time.time()\n",
    "    I = sum(2/N*np.sqrt(1-(x/N)**2) for x in range(1,N))\n",
    "    t=time.time()-t_i\n",
    "print(I,t)\n",
    "print(I-I_1)"
   ]
  }
 ],
 "metadata": {
  "kernelspec": {
   "display_name": "Python 3",
   "language": "python",
   "name": "python3"
  },
  "language_info": {
   "codemirror_mode": {
    "name": "ipython",
    "version": 3
   },
   "file_extension": ".py",
   "mimetype": "text/x-python",
   "name": "python",
   "nbconvert_exporter": "python",
   "pygments_lexer": "ipython3",
   "version": "3.6.8"
  }
 },
 "nbformat": 4,
 "nbformat_minor": 4
}
