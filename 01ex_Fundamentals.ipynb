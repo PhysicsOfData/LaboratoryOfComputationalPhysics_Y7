{
 "cells": [
  {
   "cell_type": "markdown",
   "metadata": {},
   "source": [
    "0\\. Implement a function (whatever you want) and save it to a file (e.g. `function.py`). Import that file and use that function in this notebook.\n"
   ]
  },
  {
   "cell_type": "code",
   "execution_count": 1,
   "metadata": {},
   "outputs": [
    {
     "data": {
      "text/plain": [
       "[2, 1]"
      ]
     },
     "execution_count": 1,
     "metadata": {},
     "output_type": "execute_result"
    }
   ],
   "source": [
    "import dice_rolls\n",
    "\n",
    "dice_rolls.dice_roll(attempts=2)"
   ]
  },
  {
   "cell_type": "markdown",
   "metadata": {},
   "source": [
    "1\\. Write the following as a list comprehension"
   ]
  },
  {
   "cell_type": "code",
   "execution_count": 2,
   "metadata": {},
   "outputs": [
    {
     "name": "stdout",
     "output_type": "stream",
     "text": [
      "[(0, 0), (0, 1), (0, 2), (0, 3), (1, 0), (1, 1), (1, 2), (1, 3), (2, 0), (2, 1), (2, 2), (2, 3)]\n",
      "[0, 4, 16]\n"
     ]
    }
   ],
   "source": [
    "# 1\n",
    "ans = []\n",
    "for i in range(3):\n",
    "    for j in range(4):\n",
    "        ans.append((i, j))\n",
    "print (ans)\n",
    "\n",
    "# 2\n",
    "ans = map(lambda x: x*x, filter(lambda x: x%2 == 0, range(5)))\n",
    "print (list(ans))\n",
    "\n"
   ]
  },
  {
   "cell_type": "code",
   "execution_count": 3,
   "metadata": {},
   "outputs": [
    {
     "name": "stdout",
     "output_type": "stream",
     "text": [
      "[(0, 0), (0, 1), (0, 2), (0, 3), (1, 0), (1, 1), (1, 2), (1, 3), (2, 0), (2, 1), (2, 2), (2, 3)]\n",
      "[0, 4, 16]\n"
     ]
    }
   ],
   "source": [
    "print([(i,j) for i in range(3) for j in range(4)])\n",
    "print([x**2 for x in range(5) if x%2==0])"
   ]
  },
  {
   "cell_type": "markdown",
   "metadata": {},
   "source": [
    "2\\. Convert the following function into a pure function with no global variables or side effects"
   ]
  },
  {
   "cell_type": "code",
   "execution_count": 4,
   "metadata": {},
   "outputs": [
    {
     "name": "stdout",
     "output_type": "stream",
     "text": [
      "[1, 2, 3]\n",
      "[1, 2, 3, 0, 1, 2, 3, 4]\n"
     ]
    }
   ],
   "source": [
    "def f(a, xrange):\n",
    "    b = a + list(range(xrange))\n",
    "    return b\n",
    "x = 5\n",
    "a = [1, 2, 3]\n",
    "ans = f(a, x)\n",
    "print(a)\n",
    "print(ans) # alist has been changed!"
   ]
  },
  {
   "cell_type": "markdown",
   "metadata": {},
   "source": [
    "3\\. Write a `decorator` hello that makes every wrapped function print “Hello!”, i.e. something like:\n",
    "\n",
    "```python\n",
    "@hello\n",
    "def square(x):\n",
    "    return x*x\n",
    "```\n",
    "\n"
   ]
  },
  {
   "cell_type": "code",
   "execution_count": 5,
   "metadata": {},
   "outputs": [
    {
     "name": "stdout",
     "output_type": "stream",
     "text": [
      "Hello!\n",
      "4\n",
      "Hello!\n"
     ]
    }
   ],
   "source": [
    "def hello(func):\n",
    "    def wrapper(x):\n",
    "        print(\"Hello!\")\n",
    "        func(x)\n",
    "        print(\"Hello!\")\n",
    "    return wrapper\n",
    "\n",
    "@hello\n",
    "def square(x):\n",
    "    return print(x*x)\n",
    "\n",
    "square(x=2)"
   ]
  },
  {
   "cell_type": "markdown",
   "metadata": {},
   "source": [
    "4\\. Write the factorial function so that it a) does and b) does not use recursion."
   ]
  },
  {
   "cell_type": "code",
   "execution_count": 6,
   "metadata": {},
   "outputs": [],
   "source": [
    "def fact_rec(n):\n",
    "    \"\"\"Factorial  with recursion.\"\"\"\n",
    "    # base case\n",
    "    if n==0 or n==1:\n",
    "        return 1\n",
    "    # recursive case\n",
    "    else:\n",
    "        return n*fact_rec(n-1)"
   ]
  },
  {
   "cell_type": "code",
   "execution_count": 7,
   "metadata": {},
   "outputs": [],
   "source": [
    "def fact_not_rec(n):\n",
    "    \"\"\"Factorial without recursion.\"\"\"\n",
    "    p=1\n",
    "    m=0\n",
    "    while (n-m)>0:\n",
    "        for i in range(n):\n",
    "            p = (n-i)*p\n",
    "            m=+1\n",
    "        return p"
   ]
  },
  {
   "cell_type": "code",
   "execution_count": 8,
   "metadata": {},
   "outputs": [
    {
     "name": "stdout",
     "output_type": "stream",
     "text": [
      "n = 5 \n",
      "a) Not recursive 120 \n",
      "b) Recursive 120\n"
     ]
    }
   ],
   "source": [
    "n = 5\n",
    "print(\"n =\", n, \"\\na) Not recursive\", fact_not_rec(n),\"\\nb) Recursive\", fact_rec(n))"
   ]
  },
  {
   "cell_type": "markdown",
   "metadata": {},
   "source": [
    "5\\. Use HOFs (zip in particular) to compute the weight of a circle, a disk and a sphere, assuming different radii and different densities:\n",
    "\n",
    "```python\n",
    "densities = {\"Al\":[0.5,1,2],\"Fe\":[3,4,5],\"Pb\": [15,20,30]}\n",
    "radii = [1,2,3]\n",
    "```\n",
    "\n",
    "where the entries of the dictionary's values are the linear, superficial and volumetric densities of the materials respectively.\n",
    "\n",
    "In particular define a list of three lambda functions using a comprehension that computes the circumference, the area and the volume for a given radius.\n"
   ]
  },
  {
   "cell_type": "code",
   "execution_count": 9,
   "metadata": {},
   "outputs": [
    {
     "name": "stdout",
     "output_type": "stream",
     "text": [
      "Weights for Al: \n",
      "   Circle: 3.14 \n",
      "   Disk: 12.57 \n",
      "   Sphere: 226.19\n",
      "Weights for Fe: \n",
      "   Circle: 18.85 \n",
      "   Disk: 50.27 \n",
      "   Sphere: 565.49\n",
      "Weights for Pb: \n",
      "   Circle: 94.25 \n",
      "   Disk: 251.33 \n",
      "   Sphere: 3392.92\n"
     ]
    }
   ],
   "source": [
    "import math\n",
    "\n",
    "densities = {\"Al\":[0.5,1,2],\"Fe\":[3,4,5],\"Pb\": [15,20,30]}\n",
    "radii = [1,2,3]\n",
    "\n",
    "geom_func = [\n",
    "    lambda r: 2 * math.pi * r,\n",
    "    lambda r: math.pi * r**2,\n",
    "    lambda r: (4/3) * math.pi * r**3\n",
    "]\n",
    "\n",
    "weights = {}\n",
    "\n",
    "for material, dens_list in densities.items():\n",
    "    material_w = []\n",
    "    for d, r, func in zip(dens_list, radii, geom_func):\n",
    "        w = round(func(r) * d, 2)\n",
    "        material_w.append(w)\n",
    "    weights[material] = material_w\n",
    "\n",
    "weights\n",
    "\n",
    "for material, w_list in weights.items():\n",
    "    print(f\"Weights for {material}: \\n   Circle: {w_list[0]} \\n   Disk: {w_list[1]} \\n   Sphere: {w_list[2]}\")"
   ]
  },
  {
   "cell_type": "code",
   "execution_count": null,
   "metadata": {},
   "outputs": [],
   "source": []
  },
  {
   "cell_type": "markdown",
   "metadata": {},
   "source": [
    "6\\. Edit the class defintion to add an instance attribute of is_hungry = True to the Dog class. Then add a method called eat() which changes the value of is_hungry to False when called. Figure out the best way to feed each dog and then output “My dogs are hungry.” if all are hungry or “My dogs are not hungry.” if all are not hungry. The final output should look like this:\n",
    "\n",
    "`I have 3 dogs. \n",
    "Tom is 6. \n",
    "Fletcher is 7. \n",
    "Larry is 9. \n",
    "And they're all mammals, of course. \n",
    "My dogs are not hungry.\n",
    "`\n",
    "\n",
    "```python\n",
    "# Parent class\n",
    "class Dog:\n",
    "\n",
    "    # Class attribute\n",
    "    species = 'mammal'\n",
    "\n",
    "    # Initializer / Instance attributes\n",
    "    def __init__(self, name, age):\n",
    "        self.name = name\n",
    "        self.age = age\n",
    "\n",
    "    # instance method\n",
    "    def description(self):\n",
    "        return \"{} is {} years old\".format(self.name, self.age)\n",
    "\n",
    "    # instance method\n",
    "    def speak(self, sound):\n",
    "        return \"{} says {}\".format(self.name, sound)\n",
    "\n",
    "# Child class (inherits from Dog class)\n",
    "class RussellTerrier(Dog):\n",
    "    def run(self, speed):\n",
    "        return \"{} runs {}\".format(self.name, speed)\n",
    "\n",
    "# Child class (inherits from Dog class)\n",
    "class Bulldog(Dog):\n",
    "    def run(self, speed):\n",
    "        return \"{} runs {}\".format(self.name, speed)\n",
    "```"
   ]
  },
  {
   "cell_type": "code",
   "execution_count": 10,
   "metadata": {},
   "outputs": [],
   "source": [
    "# Parent class\n",
    "class Dog:\n",
    "\n",
    "    # Class attribute\n",
    "    species = 'mammal'\n",
    "\n",
    "    # Initializer / Instance attributes\n",
    "    def __init__(self, name, age):\n",
    "        self.name = name\n",
    "        self.age = age\n",
    "        self.is_hungry = True\n",
    "\n",
    "    # instance method\n",
    "    def description(self):\n",
    "        return \"{} is {} years old\".format(self.name, self.age)\n",
    "\n",
    "    # instance method\n",
    "    def speak(self, sound):\n",
    "        return \"{} says {}\".format(self.name, sound)\n",
    "    \n",
    "    # instance method\n",
    "    def eat(self):\n",
    "        self.is_hungry = False\n",
    "\n",
    "# Child class (inherits from Dog class)\n",
    "class RussellTerrier(Dog):\n",
    "    def run(self, speed):\n",
    "        return \"{} runs {}\".format(self.name, speed)\n",
    "\n",
    "# Child class (inherits from Dog class)\n",
    "class Bulldog(Dog):\n",
    "    def run(self, speed):\n",
    "        return \"{} runs {}\".format(self.name, speed)"
   ]
  },
  {
   "cell_type": "code",
   "execution_count": 11,
   "metadata": {},
   "outputs": [
    {
     "data": {
      "text/plain": [
       "'My dogs are hungry'"
      ]
     },
     "execution_count": 11,
     "metadata": {},
     "output_type": "execute_result"
    }
   ],
   "source": [
    "my_dogs = [RussellTerrier(\"Tom\", 6), Bulldog(\"Fletcher\", 7), Bulldog(\"Larry\", 9)]\n",
    "def dogs_eat(my_dogs, eat):\n",
    "    \n",
    "    for i in range(len(my_dogs)):\n",
    "        if eat == True:\n",
    "            my_dogs[i].eat()\n",
    "        else:\n",
    "            my_dogs=my_dogs\n",
    "    \n",
    "    if not(my_dogs[0].is_hungry and my_dogs[1].is_hungry and my_dogs[2].is_hungry): \n",
    "        return \"My dogs are not hungry\"\n",
    "    if my_dogs[0].is_hungry and my_dogs[1].is_hungry and my_dogs[2].is_hungry:\n",
    "        return \"My dogs are hungry\"\n",
    "    else:\n",
    "        return \"Some dogs are hungry\"\n",
    "\n",
    "dogs_eat(my_dogs, eat=False)"
   ]
  },
  {
   "cell_type": "code",
   "execution_count": 12,
   "metadata": {},
   "outputs": [
    {
     "name": "stdout",
     "output_type": "stream",
     "text": [
      "I have 3 dogs. Tom is 6. Fletcher is 7. Larry is 6. And they're all mammal, of course. My dogs are not hungry.\n"
     ]
    }
   ],
   "source": [
    "print(f\"I have {len(my_dogs)} dogs. {my_dogs[0].name} is {my_dogs[0].age}. {my_dogs[1].name} is {my_dogs[1].age}. {my_dogs[2].name} is {my_dogs[0].age}. And they're all {Dog.species}, of course. {dogs_eat(my_dogs=my_dogs, eat=True)}.\")"
   ]
  },
  {
   "cell_type": "code",
   "execution_count": 13,
   "metadata": {},
   "outputs": [
    {
     "name": "stdout",
     "output_type": "stream",
     "text": [
      "I have 3 dogs.\n",
      "Tom is 6 years old\n",
      "Fletcher is 7 years old\n",
      "Larry is 9 years old\n",
      "And they're all mammals, of course.\n",
      "My dogs are not hungry.\n"
     ]
    }
   ],
   "source": [
    "# Chat GPT solution\n",
    "# Create a list of dogs\n",
    "my_dogs = [\n",
    "    Dog(\"Tom\", 6),\n",
    "    Dog(\"Fletcher\", 7),\n",
    "    Dog(\"Larry\", 9)\n",
    "]\n",
    "\n",
    "# Output the number of dogs\n",
    "print(f\"I have {len(my_dogs)} dogs.\")\n",
    "\n",
    "# Output each dog's description\n",
    "for dog in my_dogs:\n",
    "    print(dog.description())\n",
    "\n",
    "# Output species attribute (same for all dogs)\n",
    "print(f\"And they're all {Dog.species}s, of course.\")\n",
    "\n",
    "# Feed all the dogs\n",
    "for dog in my_dogs:\n",
    "    dog.eat()\n",
    "\n",
    "# Check if all dogs are not hungry\n",
    "if all(not dog.is_hungry for dog in my_dogs):\n",
    "    print(\"My dogs are not hungry.\")\n",
    "else:\n",
    "    print(\"My dogs are hungry.\")"
   ]
  }
 ],
 "metadata": {
  "kernelspec": {
   "display_name": "lcp_env",
   "language": "python",
   "name": "python3"
  },
  "language_info": {
   "codemirror_mode": {
    "name": "ipython",
    "version": 3
   },
   "file_extension": ".py",
   "mimetype": "text/x-python",
   "name": "python",
   "nbconvert_exporter": "python",
   "pygments_lexer": "ipython3",
   "version": "3.9.20"
  }
 },
 "nbformat": 4,
 "nbformat_minor": 2
}
