{
 "cells": [
  {
   "cell_type": "markdown",
   "metadata": {},
   "source": [
    "# Modules/packages/libraries\n",
    "\n",
    "Definitions:\n",
    "\n",
    "  * Modules:\n",
    "  A module is a file which contains python functions, global variables etc. It is nothing but .py file which has python executable code / statement.\n",
    "\n",
    "  * Packages:\n",
    "  A package is a namespace which contains multiple package/modules. It is a directory which contains a special file `__init__.py`\n",
    "  \n",
    "  * Libraries:\n",
    "  A library is a collection of various packages. There is no difference between package and python library conceptually.\n",
    "  \n",
    "Modules/packages/libraries can be easily \"imported\" and made functional in your python code. A set of libriaries comes with every python installation. Others can be installed locally and then imported. Your own code sitting somewhere else in your local computer can be imported too.\n",
    "\n",
    "Further details (very important!) on packages and how to create them can be found online. We may find the need of creating our own during the course."
   ]
  },
  {
   "cell_type": "code",
   "execution_count": 11,
   "metadata": {},
   "outputs": [
    {
     "name": "stdout",
     "output_type": "stream",
     "text": [
      "3.141592653589793\n",
      "3.141592653589793\n",
      "3.141592653589793\n"
     ]
    }
   ],
   "source": [
    "###### all the \"stuff\" that is in the math library can be used\n",
    "import math\n",
    "print(math.pi)\n",
    "\n",
    "# you can give math a label for convenience\n",
    "import math as m\n",
    "print (m.pi)\n",
    "\n",
    "# alternatively you can import only a given \"thing\" from the library\n",
    "from math import pi    #you can add several libraries at once, just list them separated by a \", \"\n",
    "print (pi)\n",
    "\n",
    "# or just get everything (very dangerous!!!)\n",
    "#from math import *\n",
    "#print (sqrt(7))"
   ]
  },
  {
   "cell_type": "markdown",
   "metadata": {},
   "source": [
    "To know which modules are there for you to use just type:"
   ]
  },
  {
   "cell_type": "code",
   "execution_count": null,
   "metadata": {},
   "outputs": [],
   "source": [
    "print (help('modules') )\n"
   ]
  },
  {
   "cell_type": "markdown",
   "metadata": {},
   "source": [
    "`pip` is a special package. It is used from the command line to install properly (e.g. matching the version of the local packages) new packages. It can also be used from within python to check i.e. the set installed packages and their versions. N.B.: only the installed packages on top of the default ones will be listed "
   ]
  },
  {
   "cell_type": "code",
   "execution_count": 6,
   "metadata": {},
   "outputs": [
    {
     "name": "stdout",
     "output_type": "stream",
     "text": [
      "['aiobotocore==2.12.3', 'aiohttp==3.9.5', 'aioitertools==0.7.1', 'aiosignal==1.2.0', 'alabaster==0.7.16', 'altair==5.0.1', 'anaconda-anon-usage==0.4.4', 'anaconda-catalogs==0.2.0', 'anaconda-client==1.12.3', 'anaconda-cloud-auth==0.5.1', 'anaconda-navigator==2.6.0', 'anaconda-project==0.11.1', 'annotated-types==0.6.0', 'anyio==4.2.0', 'appdirs==1.4.4', 'applaunchservices==0.3.0', 'appnope==0.1.3', 'appscript==1.1.2', 'archspec==0.2.3', 'argon2-cffi-bindings==21.2.0', 'argon2-cffi==21.3.0', 'arrow==1.2.3', 'astroid==2.14.2', 'astropy-iers-data==0.2024.6.3.0.31.14', 'astropy==6.1.0', 'asttokens==2.0.5', 'async-lru==2.0.4', 'atomicwrites==1.4.0', 'attrs==23.1.0', 'automat==20.2.0', 'autopep8==2.0.4', 'babel==2.11.0', 'bcrypt==3.2.0', 'beautifulsoup4==4.12.3', 'binaryornot==0.4.4', 'black==24.4.2', 'bleach==4.1.0', 'blinker==1.6.2', 'bokeh==3.4.1', 'boltons==23.0.0', 'botocore==1.34.69', 'bottleneck==1.3.7', 'brotli==1.0.9', 'cachetools==5.3.3', 'certifi==2024.8.30', 'cffi==1.16.0', 'chardet==4.0.0', 'charset-normalizer==2.0.4', 'click==8.1.7', 'cloudpickle==2.2.1', 'colorama==0.4.6', 'colorcet==3.1.0', 'comm==0.2.1', 'conda-build==24.5.1', 'conda-content-trust==0.2.0', 'conda-index==0.5.0', 'conda-libmamba-solver==24.1.0', 'conda-pack==0.7.1', 'conda-package-handling==2.3.0', 'conda-package-streaming==0.10.0', 'conda-repo-cli==1.0.88', 'conda-token==0.5.0+1.g2209e04', 'conda==24.9.1', 'constantly==23.10.4', 'contourpy==1.2.0', 'cookiecutter==2.6.0', 'cryptography==42.0.5', 'cssselect==1.2.0', 'cycler==0.11.0', 'cytoolz==0.12.2', 'dask-expr==1.1.0', 'dask==2024.5.0', 'datashader==0.16.2', 'debugpy==1.6.7', 'decorator==5.1.1', 'defusedxml==0.7.1', 'diff-match-patch==20200713', 'dill==0.3.8', 'distributed==2024.5.0', 'distro==1.9.0', 'docstring-to-markdown==0.11', 'docutils==0.18.1', 'entrypoints==0.4', 'et-xmlfile==1.1.0', 'executing==0.8.3', 'fastjsonschema==2.16.2', 'filelock==3.13.1', 'flake8==7.0.0', 'flask==3.0.3', 'fonttools==4.51.0', 'frozendict==2.4.2', 'frozenlist==1.4.0', 'fsspec==2024.3.1', 'gensim==4.3.2', 'gitdb==4.0.7', 'gitpython==3.1.37', 'greenlet==3.0.1', 'h5py==3.11.0', 'heapdict==1.0.1', 'holoviews==1.19.0', 'hvplot==0.10.0', 'hyperlink==21.0.0', 'idna==3.7', 'imagecodecs==2023.1.23', 'imageio==2.33.1', 'imagesize==1.4.1', 'imbalanced-learn==0.12.3', 'importlib-metadata==7.0.1', 'incremental==22.10.0', 'inflection==0.5.1', 'iniconfig==1.1.1', 'intake==0.7.0', 'intervaltree==3.1.0', 'ipykernel==6.28.0', 'ipython-genutils==0.2.0', 'ipython==8.25.0', 'ipywidgets==7.8.1', 'isort==5.13.2', 'itemadapter==0.3.0', 'itemloaders==1.1.0', 'itsdangerous==2.2.0', 'jaraco.classes==3.2.1', 'jedi==0.18.1', 'jellyfish==1.0.1', 'jinja2==3.1.4', 'jmespath==1.0.1', 'joblib==1.4.2', 'json5==0.9.6', 'jsonpatch==1.33', 'jsonpointer==2.1', 'jsonschema-specifications==2023.7.1', 'jsonschema==4.19.2', 'jupyter-client==8.6.0', 'jupyter-console==6.6.3', 'jupyter-core==5.7.2', 'jupyter-events==0.10.0', 'jupyter-lsp==2.2.0', 'jupyter-server-terminals==0.4.4', 'jupyter-server==2.14.1', 'jupyter==1.0.0', 'jupyterlab-pygments==0.1.2', 'jupyterlab-server==2.25.1', 'jupyterlab-widgets==1.0.0', 'jupyterlab==4.0.11', 'keyring==24.3.1', 'kiwisolver==1.4.4', 'lazy-loader==0.4', 'lazy-object-proxy==1.10.0', 'lckr-jupyterlab-variableinspector==3.1.0', 'libarchive-c==2.9', 'libmambapy==1.5.8', 'linkify-it-py==2.0.0', 'llvmlite==0.42.0', 'lmdb==1.4.1', 'locket==1.0.0', 'lxml==5.2.1', 'lz4==4.3.2', 'markdown-it-py==2.2.0', 'markdown==3.4.1', 'markupsafe==2.1.3', 'matplotlib-inline==0.1.6', 'matplotlib==3.9.2', 'mccabe==0.7.0', 'mdit-py-plugins==0.3.0', 'mdurl==0.1.0', 'menuinst==2.1.1', 'mistune==2.0.4', 'more-itertools==10.1.0', 'mpmath==1.3.0', 'msgpack==1.0.3', 'multidict==6.0.4', 'multipledispatch==0.6.0', 'mypy-extensions==1.0.0', 'mypy==1.10.0', 'navigator-updater==0.5.1', 'nbclient==0.8.0', 'nbconvert==7.10.0', 'nbformat==5.9.2', 'nest-asyncio==1.6.0', 'networkx==3.2.1', 'nltk==3.8.1', 'notebook-shim==0.2.3', 'notebook==7.0.8', 'numba==0.59.1', 'numexpr==2.8.7', 'numpy==1.26.4', 'numpydoc==1.7.0', 'openpyxl==3.1.2', 'overrides==7.4.0', 'packaging==23.2', 'pandas==2.2.2', 'pandocfilters==1.5.0', 'panel==1.4.4', 'param==2.1.0', 'parsel==1.8.1', 'parso==0.8.3', 'partd==1.4.1', 'pathspec==0.10.3', 'patsy==0.5.6', 'pexpect==4.8.0', 'pickleshare==0.7.5', 'pillow==10.3.0', 'pip==24.0', 'pkce==1.0.3', 'pkginfo==1.10.0', 'platformdirs==3.10.0', 'plotly==5.22.0', 'pluggy==1.0.0', 'ply==3.11', 'prometheus-client==0.14.1', 'prompt-toolkit==3.0.43', 'protego==0.1.16', 'protobuf==3.20.3', 'psutil==5.9.0', 'ptyprocess==0.7.0', 'pure-eval==0.2.2', 'py-cpuinfo==9.0.0', 'pyarrow==14.0.2', 'pyasn1-modules==0.2.8', 'pyasn1==0.4.8', 'pycodestyle==2.11.1', 'pycosat==0.6.6', 'pycparser==2.21', 'pyct==0.5.0', 'pycurl==7.45.2', 'pydantic-core==2.14.6', 'pydantic==2.5.3', 'pydeck==0.8.0', 'pydispatcher==2.0.5', 'pydocstyle==6.3.0', 'pyerfa==2.0.1.4', 'pyflakes==3.2.0', 'pygments==2.15.1', 'pyjwt==2.8.0', 'pylint-venv==3.0.3', 'pylint==2.16.2', 'pyls-spyder==0.4.0', 'pyobjc-core==10.1', 'pyobjc-framework-cocoa==10.1', 'pyobjc-framework-coreservices==10.1', 'pyobjc-framework-fsevents==10.1', 'pyodbc==5.0.1', 'pyopenssl==24.0.0', 'pyparsing==3.0.9', 'pyqt5-sip==12.13.0', 'pyqt5==5.15.10', 'pyqtwebengine==5.15.6', 'pysocks==1.7.1', 'pytest==7.4.4', 'python-dateutil==2.9.0.post0', 'python-dotenv==0.21.0', 'python-json-logger==2.0.7', 'python-lsp-black==2.0.0', 'python-lsp-jsonrpc==1.1.2', 'python-lsp-server==1.10.0', 'python-slugify==5.0.2', 'python-snappy==0.6.1', 'pytoolconfig==1.2.6', 'pytz==2024.1', 'pyviz-comms==3.0.2', 'pywavelets==1.5.0', 'pyyaml==6.0.1', 'pyzmq==25.1.2', 'qdarkstyle==3.2.3', 'qstylizer==0.2.2', 'qtawesome==1.2.2', 'qtconsole==5.5.1', 'qtpy==2.4.1', 'queuelib==1.6.2', 'referencing==0.30.2', 'regex==2023.10.3', 'requests-file==1.5.1', 'requests-toolbelt==1.0.0', 'requests==2.32.2', 'rfc3339-validator==0.1.4', 'rfc3986-validator==0.1.1', 'rich==13.3.5', 'rope==1.12.0', 'rpds-py==0.10.6', 'rtree==1.0.1', 'ruamel-yaml-conda==0.17.21', 'ruamel.yaml==0.17.21', 's3fs==2024.3.1', 'scikit-image==0.23.2', 'scikit-learn==1.5.1', 'scipy==1.13.1', 'scrapy==2.11.1', 'seaborn==0.13.2', 'semver==3.0.2', 'send2trash==1.8.2', 'service-identity==18.1.0', 'setuptools==69.5.1', 'sip==6.7.12', 'six==1.16.0', 'smart-open==5.2.1', 'smmap==4.0.0', 'sniffio==1.3.0', 'snowballstemmer==2.2.0', 'sortedcontainers==2.4.0', 'soupsieve==2.5', 'sphinx==7.3.7', 'sphinxcontrib-applehelp==1.0.2', 'sphinxcontrib-devhelp==1.0.2', 'sphinxcontrib-htmlhelp==2.0.0', 'sphinxcontrib-jsmath==1.0.1', 'sphinxcontrib-qthelp==1.0.3', 'sphinxcontrib-serializinghtml==1.1.10', 'spyder-kernels==2.5.0', 'spyder==5.5.1', 'sqlalchemy==2.0.30', 'stack-data==0.2.0', 'statsmodels==0.14.2', 'streamlit==1.32.0', 'sympy==1.12', 'tables==3.9.2', 'tabulate==0.9.0', 'tblib==1.7.0', 'tenacity==8.2.2', 'terminado==0.17.1', 'text-unidecode==1.3', 'textdistance==4.2.1', 'threadpoolctl==3.5.0', 'three-merge==0.1.1', 'tifffile==2023.4.12', 'tinycss2==1.2.1', 'tldextract==3.2.0', 'toml==0.10.2', 'tomli==2.0.1', 'tomlkit==0.11.1', 'toolz==0.12.0', 'tornado==6.4.1', 'tqdm==4.66.4', 'traitlets==5.14.3', 'truststore==0.8.0', 'twisted==23.10.0', 'typing-extensions==4.11.0', 'tzdata==2023.3', 'uc-micro-py==1.0.1', 'ujson==5.10.0', 'unicodedata2==15.1.0', 'unidecode==1.2.0', 'urllib3==2.2.2', 'w3lib==2.1.2', 'watchdog==4.0.1', 'wcwidth==0.2.5', 'webencodings==0.5.1', 'websocket-client==1.8.0', 'werkzeug==3.0.3', 'whatthepatch==1.0.2', 'wheel==0.43.0', 'widgetsnbextension==3.6.6', 'wrapt==1.14.1', 'wurlitzer==3.0.2', 'xarray==2023.6.0', 'xlwings==0.31.4', 'xyzservices==2022.9.0', 'yapf==0.40.2', 'yarl==1.9.3', 'zict==3.0.0', 'zipp==3.17.0', 'zope.interface==5.4.0', 'zstandard==0.22.0']\n"
     ]
    }
   ],
   "source": [
    "\"\"\"\"\"\n",
    "try:\n",
    "    # this doesn't work anymore\n",
    "    import pip\n",
    "    sorted([\"%s==%s\" % (i.key, i.version) for i in pip._internal.utils.misc.get_installed_distributions()])\n",
    "    print (\"within try\")\n",
    "\"\"\"\"\" \n",
    "# use this instead\n",
    "import pkg_resources\n",
    "installed_packages = pkg_resources.working_set\n",
    "installed_packages_list = sorted([\"%s==%s\" % (i.key, i.version)\n",
    "    for i in installed_packages])\n",
    "print(installed_packages_list)\n"
   ]
  },
  {
   "cell_type": "markdown",
   "metadata": {},
   "source": [
    "There are 3 numbers attached to each pack: x.y.z\n",
    "When x changes the update may break compatibility, y and z are new features or bug fixes."
   ]
  },
  {
   "cell_type": "markdown",
   "metadata": {},
   "source": [
    "# Copies and Views\n",
    "\n",
    "#### Copies:\n",
    "* A **copy** creates a new object that is a duplicate of the original one.\n",
    "* Changes made to the copy do not affect the original object, and vice versa.\n",
    "* There are two types of copies:\n",
    "  * Shallow Copy: Only the top-level object is copied. If the original object contains references to other objects (e.g., a list of lists), the references are copied, not the objects themselves.\n",
    "  * Deep Copy: A complete copy is made, including all nested objects. Changes to any part of the deep copy won’t affect the original object."
   ]
  },
  {
   "cell_type": "code",
   "execution_count": null,
   "metadata": {},
   "outputs": [],
   "source": [
    "import copy\n",
    "original = [1, 2, [3, 4]]\n",
    "shallow_copy = copy.copy(original)\n",
    "\n",
    "shallow_copy[0] = 100  # This won't affect the original\n",
    "shallow_copy[2][0] = 300  # This will affect the original's nested list\n",
    "\n",
    "print(\"Original:\", original)  # Output: [1, 2, [300, 4]]\n",
    "print(\"Shallow Copy:\", shallow_copy)  # Output: [100, 2, [300, 4]]\n"
   ]
  },
  {
   "cell_type": "markdown",
   "metadata": {},
   "source": [
    "#### Views:\n",
    "* A view provides a reference to the original object without creating a new object.\n",
    "* Changes made through the view directly affect the original object because the view is simply another way of accessing the original data.\n",
    "* We will see in the next classes that NumPy arrays and Pandas DataFrames often deal with views when you slice or manipulate them.\n"
   ]
  },
  {
   "cell_type": "code",
   "execution_count": null,
   "metadata": {},
   "outputs": [],
   "source": [
    "import numpy as np\n",
    "arr = np.array([1, 2, 3, 4])\n",
    "view = arr[1:3]  # This creates a view, not a copy\n",
    "\n",
    "view[0] = 100  # Modifies the original array\n",
    "\n",
    "print(\"Original array:\", arr)  # Output: [  1 100   3   4]\n",
    "print(\"View:\", view)  # Output: [100   3]\n"
   ]
  },
  {
   "cell_type": "markdown",
   "metadata": {},
   "source": [
    "One must be carefull to not duplicate too much data in memory"
   ]
  },
  {
   "cell_type": "markdown",
   "metadata": {},
   "source": [
    "# Functions"
   ]
  },
  {
   "cell_type": "code",
   "execution_count": null,
   "metadata": {},
   "outputs": [],
   "source": [
    "def square(x):\n",
    "    \"\"\"Square of x.\"\"\"\n",
    "    return x*x\n",
    "\n",
    "def cube(x):\n",
    "    \"\"\"Cube of x.\"\"\"\n",
    "    return x*x*x\n",
    "\n",
    "# create a dictionary of functions\n",
    "funcs = {\n",
    "    'square': square,\n",
    "    'cube': cube,\n",
    "}\n",
    "\n",
    "x = 3\n",
    "print(square(x))\n",
    "print(cube(x))\n",
    "\n",
    "for func in sorted(funcs):\n",
    "    print (func, funcs[func](x))"
   ]
  },
  {
   "cell_type": "markdown",
   "metadata": {},
   "source": [
    "Any dictionary key must be \"hashable\", so a function can't be used as a key, but arrays and list can."
   ]
  },
  {
   "cell_type": "markdown",
   "metadata": {},
   "source": [
    "## Functions arguments"
   ]
  },
  {
   "cell_type": "markdown",
   "metadata": {},
   "source": [
    "In Python, whether arguments passed to a function are treated as views or copies depends on the data type of the argument and how it is handled inside the function. Here's how Python handles various types of arguments:\n",
    "\n",
    "**Immutable Types** (e.g., integers, strings, tuples):\n",
    "* For immutable types like `int`, `str`, and `tuple`, when you pass them as arguments to a function, Python creates a copy of the reference to the object, not the object itself.\n",
    "* Since these objects cannot be modified, any attempt to change them inside the function results in the creation of a new object, leaving the original object unchanged."
   ]
  },
  {
   "cell_type": "code",
   "execution_count": null,
   "metadata": {},
   "outputs": [],
   "source": [
    "def modify(x):\n",
    "    x += 1\n",
    "    print(\"Inside function:\", x)\n",
    "\n",
    "a = 10\n",
    "modify(a)\n",
    "print(\"Outside function:\", a)\n"
   ]
  },
  {
   "cell_type": "markdown",
   "metadata": {},
   "source": [
    "**Mutable Types** (e.g., lists, dictionaries, sets):\n",
    "* For mutable types like `list`, `dict`, or `set`, Python passes a reference to the original object. This means that any modification made to the object inside the function will affect the original object outside the function, as they both reference the same object (this behaves like a view)."
   ]
  },
  {
   "cell_type": "code",
   "execution_count": 9,
   "metadata": {},
   "outputs": [
    {
     "name": "stdout",
     "output_type": "stream",
     "text": [
      "Inside function: [1, 2, 3, 4, 5, 4]\n",
      "Outside function: [1, 2, 3, 4, 5, 4]\n"
     ]
    }
   ],
   "source": [
    "def modify_list(lst):\n",
    "    lst.append(4)\n",
    "    print(\"Inside function:\", lst)\n",
    "\n",
    "my_list = [1, 2, 3, 4, 5]\n",
    "modify_list(my_list)\n",
    "print(\"Outside function:\", my_list)\n"
   ]
  },
  {
   "cell_type": "markdown",
   "metadata": {},
   "source": [
    "## Higher order functions\n",
    "\n",
    "A function that uses another function as an input argument or returns a function is known as a higher-order function (HOF). The most familiar examples are `map` and `filter`.\n",
    "\n",
    "A good practise for coding is reducing the number of lines of code, that's why HOF are usefull."
   ]
  },
  {
   "cell_type": "markdown",
   "metadata": {},
   "source": [
    "### map\n",
    "\n",
    "The map function applies a function to each member of a collection"
   ]
  },
  {
   "cell_type": "code",
   "execution_count": 13,
   "metadata": {},
   "outputs": [
    {
     "name": "stdout",
     "output_type": "stream",
     "text": [
      "[0, 1, 4, 9, 16]\n",
      "0\n",
      "1\n",
      "4\n",
      "9\n",
      "16\n"
     ]
    },
    {
     "data": {
      "text/plain": [
       "[0, 1, 4, 9, 16, 25]"
      ]
     },
     "execution_count": 13,
     "metadata": {},
     "output_type": "execute_result"
    }
   ],
   "source": [
    "def square(x):\n",
    "    return x*x\n",
    "\n",
    "x = list(map(square, range(5))) \n",
    "print (x)\n",
    "\n",
    "# Note the difference w.r.t python 2. In python 3 map retuns an iterator so you can do stuff like:\n",
    "for i in map(square,range(5)): print(i)\n",
    "\n",
    "# or\n",
    "[i for i in map(square,range(6))]"
   ]
  },
  {
   "cell_type": "markdown",
   "metadata": {},
   "source": [
    "### filter\n",
    "\n",
    "The filter function applies a predicate to each member of a collection, retaining only those members where the predicate is True"
   ]
  },
  {
   "cell_type": "code",
   "execution_count": null,
   "metadata": {},
   "outputs": [],
   "source": [
    "def is_even(x):\n",
    "    return x%2 == 0\n",
    "\n",
    "print (list(filter(is_even, range(5))))"
   ]
  },
  {
   "cell_type": "markdown",
   "metadata": {},
   "source": [
    "Combinations in sequence of HOF are obviously possible"
   ]
  },
  {
   "cell_type": "code",
   "execution_count": null,
   "metadata": {},
   "outputs": [],
   "source": [
    "list(map(square, filter(is_even, range(5))))"
   ]
  },
  {
   "cell_type": "markdown",
   "metadata": {},
   "source": [
    "### reduce\n",
    "\n",
    "The reduce function reduces a collection using a binary operator to combine items two at a time. More often than not reduce can be substituted with a more efficient for loop. It is worth mentioning it for its key role in big-data applications together with map (the map-reduce paradigm). \n",
    "N.B.: it no loger exist as built-in function in python 3, it is now part of the `functools` library"
   ]
  },
  {
   "cell_type": "code",
   "execution_count": 14,
   "metadata": {},
   "outputs": [
    {
     "data": {
      "text/plain": [
       "15"
      ]
     },
     "execution_count": 14,
     "metadata": {},
     "output_type": "execute_result"
    }
   ],
   "source": [
    "from functools import reduce\n",
    "\n",
    "def my_add(x, y):\n",
    "    return x + y\n",
    "\n",
    "# another implementation of the sum function\n",
    "reduce(my_add, [1,2,3,4,5])"
   ]
  },
  {
   "cell_type": "markdown",
   "metadata": {},
   "source": [
    "### zip\n",
    "\n",
    "zip is useful when you need to iterate over *matched* elements of multiple lists (matched = having same index in the array)."
   ]
  },
  {
   "cell_type": "code",
   "execution_count": 15,
   "metadata": {},
   "outputs": [
    {
     "name": "stdout",
     "output_type": "stream",
     "text": [
      "1 10 a\n",
      "2 20 b\n",
      "3 30 c\n",
      "4 40 d\n"
     ]
    }
   ],
   "source": [
    "xs = [1, 2, 3, 4]\n",
    "ys = [10, 20, 30, 40]\n",
    "zs = ['a', 'b', 'c','d']\n",
    "\n",
    "for x, y, z in zip(xs, ys, zs):\n",
    "    print (x, y, z)"
   ]
  },
  {
   "cell_type": "markdown",
   "metadata": {},
   "source": [
    "### Custom HOF"
   ]
  },
  {
   "cell_type": "code",
   "execution_count": 16,
   "metadata": {},
   "outputs": [
    {
     "name": "stdout",
     "output_type": "stream",
     "text": [
      "30\n"
     ]
    },
    {
     "ename": "NameError",
     "evalue": "name 'cube' is not defined",
     "output_type": "error",
     "traceback": [
      "\u001b[0;31m---------------------------------------------------------------------------\u001b[0m",
      "\u001b[0;31mNameError\u001b[0m                                 Traceback (most recent call last)",
      "Cell \u001b[0;32mIn[16], line 7\u001b[0m\n\u001b[1;32m      5\u001b[0m xs \u001b[38;5;241m=\u001b[39m \u001b[38;5;28mrange\u001b[39m(\u001b[38;5;241m5\u001b[39m)\n\u001b[1;32m      6\u001b[0m \u001b[38;5;28mprint\u001b[39m (custom_sum(xs, square))\n\u001b[0;32m----> 7\u001b[0m \u001b[38;5;28mprint\u001b[39m (custom_sum(xs, cube))\n",
      "\u001b[0;31mNameError\u001b[0m: name 'cube' is not defined"
     ]
    }
   ],
   "source": [
    "def custom_sum(xs, transform):\n",
    "    \"\"\"Returns the sum of xs after a user specified transform.\"\"\"\n",
    "    return sum(map(transform, xs))\n",
    "\n",
    "xs = range(5)\n",
    "print (custom_sum(xs, square))\n",
    "print (custom_sum(xs, cube))\n",
    "\n"
   ]
  },
  {
   "cell_type": "markdown",
   "metadata": {},
   "source": [
    "### Returning a function"
   ]
  },
  {
   "cell_type": "code",
   "execution_count": 17,
   "metadata": {},
   "outputs": [],
   "source": [
    "def make_logger(target):\n",
    "    def logger(data):\n",
    "        with open(target, 'a') as f:\n",
    "            f.write(data + '\\n')\n",
    "    return logger\n",
    "\n",
    "foo_logger = make_logger('foo.txt') #foo.txt will be created if not there already\n",
    "foo_logger('Hello')\n",
    "foo_logger('World')"
   ]
  },
  {
   "cell_type": "code",
   "execution_count": 19,
   "metadata": {},
   "outputs": [
    {
     "name": "stdout",
     "output_type": "stream",
     "text": [
      "Hello\n",
      "World\n"
     ]
    }
   ],
   "source": [
    "! cat 'foo.txt' #! run what there is next in shell, directly from Jupyter."
   ]
  },
  {
   "cell_type": "markdown",
   "metadata": {},
   "source": [
    "## Anonimous functions (lambda)\n",
    "\n",
    "When using functional style, there is often the need to create specific functions that perform a limited task as input to a HOF such as map or filter. In such cases, these functions are often written as anonymous or lambda functions. \n",
    "The syntax is as follows:\n",
    "\n",
    "lambda *arguments* : *expression*\n",
    "\n",
    "\n",
    "If you find it hard to understand what a lambda function is doing, it should probably be rewritten as a regular function."
   ]
  },
  {
   "cell_type": "code",
   "execution_count": 20,
   "metadata": {},
   "outputs": [
    {
     "data": {
      "text/plain": [
       "7"
      ]
     },
     "execution_count": 20,
     "metadata": {},
     "output_type": "execute_result"
    }
   ],
   "source": [
    "suml = lambda x,y: x+y\n",
    "suml(3,4)"
   ]
  },
  {
   "cell_type": "code",
   "execution_count": null,
   "metadata": {},
   "outputs": [],
   "source": [
    "(lambda x,y: x+y)(3,4)"
   ]
  },
  {
   "cell_type": "code",
   "execution_count": 21,
   "metadata": {},
   "outputs": [
    {
     "name": "stdout",
     "output_type": "stream",
     "text": [
      "0\n",
      "1\n",
      "4\n",
      "9\n",
      "16\n"
     ]
    }
   ],
   "source": [
    "for i in map(lambda x: x*x, range(5)): print (i)"
   ]
  },
  {
   "cell_type": "code",
   "execution_count": null,
   "metadata": {},
   "outputs": [],
   "source": [
    "# what does this function do?\n",
    "from functools import reduce\n",
    "s1 = reduce(lambda x, y: x+y, map(lambda x: x**2, range(1,10)))\n",
    "print(s1)\n"
   ]
  },
  {
   "cell_type": "markdown",
   "metadata": {},
   "source": [
    "## Recursive functions "
   ]
  },
  {
   "cell_type": "code",
   "execution_count": 22,
   "metadata": {},
   "outputs": [
    {
     "name": "stdout",
     "output_type": "stream",
     "text": [
      "[1, 1, 2, 3, 5, 8, 13, 21, 34, 55]\n"
     ]
    }
   ],
   "source": [
    "def fib1(n):\n",
    "    \"\"\"Fib with recursion.\"\"\"\n",
    "\n",
    "    # base case\n",
    "    if n==0 or n==1:\n",
    "        return 1\n",
    "    # recursive case\n",
    "    else:\n",
    "        return fib1(n-1) + fib1(n-2)\n",
    "\n",
    "    \n",
    "print ([fib1(i) for i in range(10)])"
   ]
  },
  {
   "cell_type": "code",
   "execution_count": 23,
   "metadata": {},
   "outputs": [
    {
     "name": "stdout",
     "output_type": "stream",
     "text": [
      "[1, 1, 2, 3, 5, 8, 13, 21, 34, 55]\n"
     ]
    }
   ],
   "source": [
    "# In Python, a more efficient version that does not use recursion is\n",
    "\n",
    "def fib2(n):\n",
    "    \"\"\"Fib without recursion.\"\"\"\n",
    "    a, b = 0, 1\n",
    "    for i in range(1, n+1):\n",
    "        a, b = b, a+b\n",
    "    return b\n",
    "\n",
    "print ([fib2(i) for i in range(10)])"
   ]
  },
  {
   "cell_type": "code",
   "execution_count": 24,
   "metadata": {},
   "outputs": [
    {
     "name": "stdout",
     "output_type": "stream",
     "text": [
      "1.49 ms ± 32.8 μs per loop (mean ± std. dev. of 7 runs, 100 loops each)\n",
      "787 ns ± 9.7 ns per loop (mean ± std. dev. of 7 runs, 1,000,000 loops each)\n"
     ]
    }
   ],
   "source": [
    "# check indeed the timing:\n",
    "\n",
    "%timeit fib1(20)\n",
    "%timeit fib2(20)\n"
   ]
  },
  {
   "cell_type": "markdown",
   "metadata": {},
   "source": [
    "## Iterators\n",
    "\n",
    "Iterators represent streams of values. Because only one value is consumed at a time, they use very little memory. Use of iterators is very helpful for working with data sets too large to fit into RAM."
   ]
  },
  {
   "cell_type": "code",
   "execution_count": null,
   "metadata": {},
   "outputs": [],
   "source": [
    "# Iterators can be created from sequences with the built-in function iter()\n",
    "\n",
    "xs = [1,2,3]\n",
    "x_iter = iter(xs)\n",
    "\n",
    "print (next(x_iter))\n",
    "print (next(x_iter))\n",
    "print (next(x_iter))\n",
    "#print (next(x_iter))"
   ]
  },
  {
   "cell_type": "code",
   "execution_count": null,
   "metadata": {},
   "outputs": [],
   "source": [
    "# Most commonly, iterators are used (automatically) within a for loop\n",
    "# which terminates when it encouters a StopIteration exception\n",
    "\n",
    "x_iter = iter(xs)\n",
    "for x in x_iter:\n",
    "    print (x)"
   ]
  },
  {
   "cell_type": "markdown",
   "metadata": {},
   "source": [
    "## More on comprehensions"
   ]
  },
  {
   "cell_type": "code",
   "execution_count": 25,
   "metadata": {},
   "outputs": [
    {
     "name": "stdout",
     "output_type": "stream",
     "text": [
      "<generator object <genexpr> at 0x12ef10d00>\n",
      "[0, 1, 4, 9, 16, 25, 36, 49, 64, 81]\n",
      "{0, 1, 2, 3, 4, 5, 6, 7, 8, 9}\n",
      "{0: 'x', 2: 'x', 4: 'x', 6: 'x', 8: 'x'}\n"
     ]
    }
   ],
   "source": [
    "# A generator expression\n",
    "\n",
    "print ((x for x in range(10)))\n",
    "\n",
    "# A list comprehesnnion\n",
    "\n",
    "print ([x**2 for x in range(10)])\n",
    "\n",
    "# A set comprehension\n",
    "\n",
    "print ({x for x in range(10)})\n",
    "\n",
    "# A dictionary comprehension\n",
    "\n",
    "print ({x: \"x\" for x in range(10) if x%2==0})"
   ]
  },
  {
   "cell_type": "markdown",
   "metadata": {},
   "source": [
    "## Useful Modules\n",
    "\n",
    "You may want to have a look at the content of the following modules for further usage of (HO) functions:\n",
    "  - [operator](https://docs.python.org/3/library/operator.html)\n",
    "  - [functools](https://docs.python.org/3/library/functools.html)\n",
    "  - [itertools](https://docs.python.org/3/library/itertools.html)\n",
    "  - [toolz](https://pypi.org/project/toolz/)\n",
    "  - [funcy](https://pypi.org/project/funcy/)"
   ]
  },
  {
   "cell_type": "markdown",
   "metadata": {},
   "source": [
    "## Decorators\n",
    "\n",
    "Decorators are a type of HOF that take a function and return a wrapped function that provides additional useful properties.\n",
    "\n",
    "Examples:\n",
    "\n",
    "  - logging (registering what happens during the execution of a function)\n",
    "  - profiling\n",
    "  - Just-In-Time (JIT) compilation"
   ]
  },
  {
   "cell_type": "code",
   "execution_count": null,
   "metadata": {},
   "outputs": [],
   "source": [
    "def my_decorator(func):\n",
    "    def wrapper():\n",
    "        print(\"Something is happening before the function is called.\")\n",
    "        func()\n",
    "        print(\"Something is happening after the function is called.\")\n",
    "    return wrapper\n",
    "\n",
    "def say_whee():\n",
    "    print(\"Whee!\")\n",
    "\n",
    "say_whee = my_decorator(say_whee)"
   ]
  },
  {
   "cell_type": "code",
   "execution_count": null,
   "metadata": {},
   "outputs": [],
   "source": [
    "say_whee()"
   ]
  },
  {
   "cell_type": "markdown",
   "metadata": {},
   "source": [
    "Python allows you to use decorators in a simpler way with the @ symbol, sometimes called the “pie” syntax"
   ]
  },
  {
   "cell_type": "code",
   "execution_count": 26,
   "metadata": {},
   "outputs": [],
   "source": [
    "def my_decorator(func):\n",
    "    def wrapper():\n",
    "        print(\"Something is happening before the function is called.\")\n",
    "        func()\n",
    "        print(\"Something is happening after the function is called.\")\n",
    "    return wrapper\n",
    "\n",
    "@my_decorator\n",
    "def say_whee():\n",
    "    print(\"Whee!\")"
   ]
  },
  {
   "cell_type": "code",
   "execution_count": 27,
   "metadata": {},
   "outputs": [
    {
     "name": "stdout",
     "output_type": "stream",
     "text": [
      "Something is happening before the function is called.\n",
      "Whee!\n",
      "Something is happening after the function is called.\n"
     ]
    }
   ],
   "source": [
    "say_whee()"
   ]
  },
  {
   "cell_type": "markdown",
   "metadata": {},
   "source": [
    "#### JIT\n",
    "\n",
    "A JIT (Just-In-Time) compiler refers to a technique used to improve the performance of code execution by compiling code into machine code at runtime, rather than interpreting it line by line. This helps speed up program execution by reducing the overhead of repeatedly interpreting code.\n",
    "\n",
    "While the standard Python interpreter, CPython, does not include a JIT compiler, there are alternative Python implementations that provide JIT compilation, such as PyPy or [numba](https://numba.pydata.org).\n",
    "\n",
    "JIT combines both interpretation and compilation. It interprets code initially, and as it identifies sections of code that are executed repeatedly, it compiles them to machine code, optimizing performance dynamically.\n",
    "\n"
   ]
  },
  {
   "cell_type": "code",
   "execution_count": null,
   "metadata": {},
   "outputs": [],
   "source": [
    "from numba import jit\n",
    "\n",
    "@jit\n",
    "def fast_sum(arr):\n",
    "    total = 0\n",
    "    for i in arr:\n",
    "        total += i\n",
    "    return total\n"
   ]
  },
  {
   "cell_type": "code",
   "execution_count": null,
   "metadata": {},
   "outputs": [],
   "source": [
    "fast_sum(list(range(100)))\n",
    "\n",
    "# is it really fast? Try to compare with my_add above"
   ]
  },
  {
   "cell_type": "markdown",
   "metadata": {},
   "source": [
    "# Classes and Objects\n",
    "\n",
    "Old school object-oriented programming is possible and often used in python. Classes are defined similarly to standard object-oriented languages, with similar functionalities.\n",
    "\n",
    "The main python doc [page](https://docs.python.org/3/tutorial/classes.html) is worth reading through "
   ]
  },
  {
   "cell_type": "code",
   "execution_count": null,
   "metadata": {},
   "outputs": [],
   "source": [
    "class Pet:\n",
    "    # the \"constructor\"\n",
    "    def __init__(self, name, age):  #inizialize the elements of the class\n",
    "        self.name=name\n",
    "        self.age=age\n",
    "    # class functions take the \"self\" parameter !!!\n",
    "    def set_name(self,name):\n",
    "        self.name=name\n",
    "    def convert_age(self,factor):\n",
    "        self.age*=factor\n",
    "\n",
    "buddy=Pet(\"buddy\",4)\n",
    "print (buddy.name, buddy.age)\n",
    "buddy.age=3\n",
    "print (buddy.convert_age(4))\n",
    "print (buddy.age)\n"
   ]
  },
  {
   "cell_type": "code",
   "execution_count": null,
   "metadata": {},
   "outputs": [],
   "source": [
    "# ineritance is straightforward\n",
    "class Dog(Pet):\n",
    "    # the following variables is \"global\", i.e. holds for all \"Dog\" objects\n",
    "    species = \"mammal\"\n",
    "    # functions can be redefined as usual\n",
    "    def convert_age(self):\n",
    "        self.age*=7\n",
    "    def set_species(self, species):\n",
    "        self.species = species\n",
    "        \n",
    "puppy=Dog(\"tobia\",10)\n",
    "print(puppy.name)\n",
    "puppy.convert_age()\n",
    "print(puppy.age)\\\n"
   ]
  }
 ],
 "metadata": {
  "kernelspec": {
   "display_name": "base",
   "language": "python",
   "name": "python3"
  },
  "language_info": {
   "codemirror_mode": {
    "name": "ipython",
    "version": 3
   },
   "file_extension": ".py",
   "mimetype": "text/x-python",
   "name": "python",
   "nbconvert_exporter": "python",
   "pygments_lexer": "ipython3",
   "version": "3.12.4"
  }
 },
 "nbformat": 4,
 "nbformat_minor": 2
}
