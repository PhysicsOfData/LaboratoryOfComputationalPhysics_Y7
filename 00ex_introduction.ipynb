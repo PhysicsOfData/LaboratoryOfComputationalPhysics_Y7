{
 "cells": [
  {
   "cell_type": "markdown",
   "metadata": {},
   "source": [
    "1. The MickeyMouse problem\n",
    "\n",
    "a) Write a program that prints the numbers from 1 to 100. But for multiples of 3 print `Mickey` instead of the corresponding number and for the multiples of 5 print `Mouse`. For numbers which are multiples of both three and five print `MickeyMouse`\n",
    "\n",
    "b) Put the result in a tuple and substitute `Mickey` with `Donald` and `Mouse` with `Duck`"
   ]
  },
  {
   "cell_type": "code",
   "execution_count": 1,
   "metadata": {},
   "outputs": [
    {
     "name": "stdout",
     "output_type": "stream",
     "text": [
      "1\n",
      "2\n",
      "Mickey\n",
      "4\n",
      "Mouse\n",
      "Mickey\n",
      "7\n",
      "8\n",
      "Mickey\n",
      "Mouse\n",
      "11\n",
      "Mickey\n",
      "13\n",
      "14\n",
      "MickeyMouse\n",
      "16\n",
      "17\n",
      "Mickey\n",
      "19\n",
      "Mouse\n",
      "Mickey\n",
      "22\n",
      "23\n",
      "Mickey\n",
      "Mouse\n",
      "26\n",
      "Mickey\n",
      "28\n",
      "29\n",
      "MickeyMouse\n",
      "31\n",
      "32\n",
      "Mickey\n",
      "34\n",
      "Mouse\n",
      "Mickey\n",
      "37\n",
      "38\n",
      "Mickey\n",
      "Mouse\n",
      "41\n",
      "Mickey\n",
      "43\n",
      "44\n",
      "MickeyMouse\n",
      "46\n",
      "47\n",
      "Mickey\n",
      "49\n",
      "Mouse\n",
      "Mickey\n",
      "52\n",
      "53\n",
      "Mickey\n",
      "Mouse\n",
      "56\n",
      "Mickey\n",
      "58\n",
      "59\n",
      "MickeyMouse\n",
      "61\n",
      "62\n",
      "Mickey\n",
      "64\n",
      "Mouse\n",
      "Mickey\n",
      "67\n",
      "68\n",
      "Mickey\n",
      "Mouse\n",
      "71\n",
      "Mickey\n",
      "73\n",
      "74\n",
      "MickeyMouse\n",
      "76\n",
      "77\n",
      "Mickey\n",
      "79\n",
      "Mouse\n",
      "Mickey\n",
      "82\n",
      "83\n",
      "Mickey\n",
      "Mouse\n",
      "86\n",
      "Mickey\n",
      "88\n",
      "89\n",
      "MickeyMouse\n",
      "91\n",
      "92\n",
      "Mickey\n",
      "94\n",
      "Mouse\n",
      "Mickey\n",
      "97\n",
      "98\n",
      "Mickey\n",
      "Mouse\n"
     ]
    },
    {
     "data": {
      "text/plain": [
       "(1,\n",
       " 2,\n",
       " 'Mickey',\n",
       " 4,\n",
       " 'Mouse',\n",
       " 'Mickey',\n",
       " 7,\n",
       " 8,\n",
       " 'Mickey',\n",
       " 'Mouse',\n",
       " 11,\n",
       " 'Mickey',\n",
       " 13,\n",
       " 14,\n",
       " 'MickeyMouse',\n",
       " 16,\n",
       " 17,\n",
       " 'Mickey',\n",
       " 19,\n",
       " 'Mouse',\n",
       " 'Mickey',\n",
       " 22,\n",
       " 23,\n",
       " 'Mickey',\n",
       " 'Mouse',\n",
       " 26,\n",
       " 'Mickey',\n",
       " 28,\n",
       " 29,\n",
       " 'MickeyMouse',\n",
       " 31,\n",
       " 32,\n",
       " 'Mickey',\n",
       " 34,\n",
       " 'Mouse',\n",
       " 'Mickey',\n",
       " 37,\n",
       " 38,\n",
       " 'Mickey',\n",
       " 'Mouse',\n",
       " 41,\n",
       " 'Mickey',\n",
       " 43,\n",
       " 44,\n",
       " 'MickeyMouse',\n",
       " 46,\n",
       " 47,\n",
       " 'Mickey',\n",
       " 49,\n",
       " 'Mouse',\n",
       " 'Mickey',\n",
       " 52,\n",
       " 53,\n",
       " 'Mickey',\n",
       " 'Mouse',\n",
       " 56,\n",
       " 'Mickey',\n",
       " 58,\n",
       " 59,\n",
       " 'MickeyMouse',\n",
       " 61,\n",
       " 62,\n",
       " 'Mickey',\n",
       " 64,\n",
       " 'Mouse',\n",
       " 'Mickey',\n",
       " 67,\n",
       " 68,\n",
       " 'Mickey',\n",
       " 'Mouse',\n",
       " 71,\n",
       " 'Mickey',\n",
       " 73,\n",
       " 74,\n",
       " 'MickeyMouse',\n",
       " 76,\n",
       " 77,\n",
       " 'Mickey',\n",
       " 79,\n",
       " 'Mouse',\n",
       " 'Mickey',\n",
       " 82,\n",
       " 83,\n",
       " 'Mickey',\n",
       " 'Mouse',\n",
       " 86,\n",
       " 'Mickey',\n",
       " 88,\n",
       " 89,\n",
       " 'MickeyMouse',\n",
       " 91,\n",
       " 92,\n",
       " 'Mickey',\n",
       " 94,\n",
       " 'Mouse',\n",
       " 'Mickey',\n",
       " 97,\n",
       " 98,\n",
       " 'Mickey',\n",
       " 'Mouse')"
      ]
     },
     "execution_count": 1,
     "metadata": {},
     "output_type": "execute_result"
    }
   ],
   "source": [
    "#   a) Solution:\n",
    "\n",
    "#   'for' loop that prints numbers from 1 to 100\n",
    "    #   'if' statement that prints \"Mickey\" is \"Mouse\" using modulus operator\n",
    "\n",
    "#   Define the tuple a\n",
    "\n",
    "a = ()\n",
    "\n",
    "for i in range(1, 101):\n",
    "    if i%15==0:\n",
    "        print(\"MickeyMouse\")\n",
    "        a = a + (\"MickeyMouse\",)\n",
    "    elif i%3==0:\n",
    "        print(\"Mickey\")\n",
    "        a = a + (\"Mickey\",)\n",
    "    elif i%5==0:\n",
    "        print(\"Mouse\")\n",
    "        a = a + (\"Mouse\",)\n",
    "\n",
    "    else:\n",
    "        print(i)\n",
    "        a = a + (i,)\n",
    "\n",
    "a\n",
    "        "
   ]
  },
  {
   "cell_type": "code",
   "execution_count": 2,
   "metadata": {},
   "outputs": [
    {
     "data": {
      "text/plain": [
       "[1,\n",
       " 2,\n",
       " 'Mickey',\n",
       " 4,\n",
       " 'Mouse',\n",
       " 'Mickey',\n",
       " 7,\n",
       " 8,\n",
       " 'Mickey',\n",
       " 'Mouse',\n",
       " 11,\n",
       " 'Mickey',\n",
       " 13,\n",
       " 14,\n",
       " 'MickeyMouse']"
      ]
     },
     "execution_count": 2,
     "metadata": {},
     "output_type": "execute_result"
    }
   ],
   "source": [
    "b = list(a)\n",
    "b[:15]"
   ]
  },
  {
   "cell_type": "code",
   "execution_count": 3,
   "metadata": {},
   "outputs": [
    {
     "name": "stdout",
     "output_type": "stream",
     "text": [
      "[1, 2, 'Donald', 4, 'Duck', 'Donald', 7, 8, 'Donald', 'Duck', 11, 'Donald', 13, 14, 'MickeyMouse']\n",
      "[1, 2, 'Mickey', 4, 'Mouse', 'Mickey', 7, 8, 'Mickey', 'Mouse', 11, 'Mickey', 13, 14, 'MickeyMouse']\n"
     ]
    }
   ],
   "source": [
    "#   substitute `Mickey` with `Donald` and `Mouse` with `Duck`\n",
    "b = list(a)\n",
    "\n",
    "for i in range(len(b)):\n",
    "    if b[i]=='Mickey':\n",
    "        b[i]='Donald'\n",
    "    elif b[i]=='Mouse':\n",
    "        b[i]='Duck'\n",
    "\n",
    "print(b[:15])\n",
    "print(list(a)[:15])"
   ]
  },
  {
   "cell_type": "markdown",
   "metadata": {},
   "source": [
    "2\\. The swap function\n",
    "\n",
    "Write a function that swap the values of two input variables x and y (whatever the type). Try to do that also without a temporary variable"
   ]
  },
  {
   "cell_type": "code",
   "execution_count": 4,
   "metadata": {},
   "outputs": [
    {
     "name": "stdout",
     "output_type": "stream",
     "text": [
      "2 1\n"
     ]
    }
   ],
   "source": [
    "def swap_f(x, y):\n",
    "    x, y = y, x\n",
    "    print(x, y)\n",
    "\n",
    "swap_f(x=1, y=2)"
   ]
  },
  {
   "cell_type": "markdown",
   "metadata": {},
   "source": [
    "3\\. Computing the distance\n",
    "\n",
    "Write a function that calculates and returns the euclidean distance between two points *u* and *v*, where *u* and *v* are both 2-tuples *(x,y)*. For example, if *u=(3,0)* and *v=(0,4)*, the function should return 5"
   ]
  },
  {
   "cell_type": "code",
   "execution_count": 5,
   "metadata": {},
   "outputs": [
    {
     "name": "stdout",
     "output_type": "stream",
     "text": [
      "5.0\n"
     ]
    }
   ],
   "source": [
    "u = (3, 0)\n",
    "v = (0, 4)\n",
    "def eu_d_f(u_p, v_p):\n",
    "    x1, x2, y1, y2 = list(u_p)[0], list(v_p)[0], list(u_p)[1], list(v_p)[1]\n",
    "    eu_d = ((x2-x1)**2 + (y2-y1)**2)**(1/2)\n",
    "    print(eu_d)\n",
    "\n",
    "eu_d_f(u, v)\n"
   ]
  },
  {
   "cell_type": "markdown",
   "metadata": {},
   "source": [
    "4\\. Counting letters\n",
    "\n",
    "Write a program to calculate the number of times each character occurs in a given string *s*. Ignore differneces in capitalization"
   ]
  },
  {
   "cell_type": "code",
   "execution_count": 6,
   "metadata": {},
   "outputs": [
    {
     "data": {
      "text/plain": [
       "{' ': 41,\n",
       " '.': 2,\n",
       " '0': 2,\n",
       " '1': 2,\n",
       " 'a': 7,\n",
       " 'b': 5,\n",
       " 'c': 3,\n",
       " 'd': 3,\n",
       " 'e': 22,\n",
       " 'f': 10,\n",
       " 'g': 1,\n",
       " 'h': 9,\n",
       " 'i': 14,\n",
       " 'k': 2,\n",
       " 'l': 6,\n",
       " 'm': 12,\n",
       " 'n': 10,\n",
       " 'o': 13,\n",
       " 'p': 8,\n",
       " 'r': 17,\n",
       " 's': 9,\n",
       " 't': 19,\n",
       " 'u': 9,\n",
       " 'v': 2,\n",
       " 'w': 2,\n",
       " 'y': 2}"
      ]
     },
     "execution_count": 6,
     "metadata": {},
     "output_type": "execute_result"
    }
   ],
   "source": [
    "s=\"Write a program that prints the numbers from 1 to 100. \\\n",
    "But for multiples of three print Mickey instead of the number and for the multiples of five print Mouse. \\\n",
    "For numbers which are multiples of both three and five print MickeyMouse\"\n",
    "\n",
    "chars = [c.lower() for c in s]\n",
    "\n",
    "counter = {i:chars.count(i) for i in chars}\n",
    "\n",
    "counter_sorted = dict(sorted(counter.items()))\n",
    "\n",
    "counter_sorted\n"
   ]
  },
  {
   "cell_type": "markdown",
   "metadata": {},
   "source": [
    "5\\. Isolating the unique\n",
    "\n",
    "Write a function that determines and count the unique numbers in the list *l*"
   ]
  },
  {
   "cell_type": "code",
   "execution_count": 12,
   "metadata": {},
   "outputs": [
    {
     "name": "stdout",
     "output_type": "stream",
     "text": [
      "80 37\n"
     ]
    }
   ],
   "source": [
    "l = [36, 45, 58, 3, 74, 96, 64, 45, 31, 10, 24, 19, 33, 86, 99, 18, 63, 70, 85,\n",
    " 85, 63, 47, 56, 42, 70, 84, 88, 55, 20, 54, 8, 56, 51, 79, 81, 57, 37, 91,\n",
    " 1, 84, 84, 36, 66, 9, 89, 50, 42, 91, 50, 95, 90, 98, 39, 16, 82, 31, 92, 41,\n",
    " 45, 30, 66, 70, 34, 85, 94, 5, 3, 36, 72, 91, 84, 34, 87, 75, 53, 51, 20, 89, 51, 20]\n",
    "\n",
    "unique_counter = len([i for i in l if l.count(i)==1])\n",
    "\n",
    "print(len(l), unique_counter)\n"
   ]
  },
  {
   "cell_type": "markdown",
   "metadata": {},
   "source": [
    "6\\. Combination of functions\n",
    "\n",
    "Write two functions - one that returns the square of a number, and one that returns the cube. Now write a third function that returns the number raised to the 6th power using the two previous functions."
   ]
  },
  {
   "cell_type": "code",
   "execution_count": 8,
   "metadata": {},
   "outputs": [
    {
     "data": {
      "text/plain": [
       "64"
      ]
     },
     "execution_count": 8,
     "metadata": {},
     "output_type": "execute_result"
    }
   ],
   "source": [
    "def sq(x):\n",
    "    return x**2\n",
    "\n",
    "def cb(x):\n",
    "    return x**3\n",
    "\n",
    "def pow_6(x):\n",
    "    return cb(sq(x))\n",
    "\n",
    "pow_6(2)"
   ]
  },
  {
   "cell_type": "markdown",
   "metadata": {},
   "source": [
    "7\\. Cubes\n",
    "\n",
    "Create a list of the cubes of x for x in *[0, 10]* using:\n",
    "\n",
    "a) a for loop\n",
    "\n",
    "b) a list comprehension"
   ]
  },
  {
   "cell_type": "code",
   "execution_count": 9,
   "metadata": {},
   "outputs": [
    {
     "name": "stdout",
     "output_type": "stream",
     "text": [
      "[0, 1, 8, 27, 64, 125, 216, 343, 512, 729, 1000]\n",
      "[0, 1, 8, 27, 64, 125, 216, 343, 512, 729, 1000]\n"
     ]
    }
   ],
   "source": [
    "#  Solution a)\n",
    "X_cubes_floop = []\n",
    "for x in range(11):\n",
    "    X_cubes_floop.append(x**3)\n",
    "print(X_cubes_floop)\n",
    "\n",
    "#  Solution b)\n",
    "X_cubes_lcomp = [x**3 for x in range(11)]\n",
    "print(X_cubes_lcomp)"
   ]
  },
  {
   "cell_type": "markdown",
   "metadata": {},
   "source": [
    "8\\. Nested list comprehension\n",
    "\n",
    "A Pythagorean triple is an integer solution to the Pythagorean theorem $a^2+b^2=c^2$. The first Pythagorean triple is (3,4,5). Find and put in a tuple all unique Pythagorean triples for the positive integers a, b and c less than 100."
   ]
  },
  {
   "cell_type": "code",
   "execution_count": 35,
   "metadata": {},
   "outputs": [
    {
     "data": {
      "text/plain": [
       "50"
      ]
     },
     "execution_count": 35,
     "metadata": {},
     "output_type": "execute_result"
    }
   ],
   "source": [
    "pythagorean_triples_uq = [(i, j, k) for i in range(1,100) for j in range(i,100) for k in range(1,100) if i != j and (i**2+j**2) == k**2]\n",
    "len(pythagorean_triples_uq)"
   ]
  },
  {
   "cell_type": "markdown",
   "metadata": {},
   "source": [
    "9\\. Normalization\n",
    "\n",
    "Write a function that takes a tuple of numbers and returns it with the entries normalized to one"
   ]
  },
  {
   "cell_type": "code",
   "execution_count": 45,
   "metadata": {},
   "outputs": [
    {
     "name": "stdout",
     "output_type": "stream",
     "text": [
      "(0.1, 0.2, 0.3, 0.4)\n"
     ]
    }
   ],
   "source": [
    "def norm_tpl(numbers):\n",
    "    total_sum = sum(numbers)\n",
    "    normalized_tuple = tuple([x/total_sum for x in numbers])\n",
    "    return normalized_tuple\n",
    "\n",
    "numbers = (1, 2, 3, 4)\n",
    "num_norm = norm_tpl(numbers)\n",
    "print(num_norm)"
   ]
  }
 ],
 "metadata": {
  "kernelspec": {
   "display_name": "lcp_env",
   "language": "python",
   "name": "python3"
  },
  "language_info": {
   "codemirror_mode": {
    "name": "ipython",
    "version": 3
   },
   "file_extension": ".py",
   "mimetype": "text/x-python",
   "name": "python",
   "nbconvert_exporter": "python",
   "pygments_lexer": "ipython3",
   "version": "3.9.20"
  }
 },
 "nbformat": 4,
 "nbformat_minor": 2
}
