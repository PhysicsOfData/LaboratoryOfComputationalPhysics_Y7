{
 "cells": [
  {
   "cell_type": "markdown",
   "metadata": {},
   "source": [
    "1. The MickeyMouse problem\n",
    "\n",
    "a) Write a program that prints the numbers from 1 to 100. But for multiples of 3 print `Mickey` instead of the corresponding number and for the multiples of 5 print `Mouse`. For numbers which are multiples of both three and five print `MickeyMouse`\n",
    "\n",
    "b) Put the result in a tuple and substitute `Mickey` with `Donald` and `Mouse` with `Duck`"
   ]
  },
  {
   "cell_type": "code",
   "execution_count": null,
   "metadata": {},
   "outputs": [],
   "source": [
    "for i in range(1, 101):\n",
    "    if (i % 3 != 0) and (i % 5 != 0): print(i)\n",
    "    else:\n",
    "        str = \"\"\n",
    "        if i % 3 == 0: str += \"Mickey\"\n",
    "        if i % 5 == 0: str += \"Mouse\"\n",
    "        print(str)\n",
    "        "
   ]
  },
  {
   "cell_type": "code",
   "execution_count": 10,
   "metadata": {},
   "outputs": [],
   "source": [
    "l = []\n",
    "for i in range(1, 101):\n",
    "    if (i % 3 != 0) and (i % 5 != 0): l.append(i)\n",
    "    else:\n",
    "        str = \"\"\n",
    "        if i % 3 == 0: str += \"Donald\"\n",
    "        if i % 5 == 0: str += \"Duck\"\n",
    "        l.append(str)\n",
    "t = tuple(l)"
   ]
  },
  {
   "cell_type": "markdown",
   "metadata": {},
   "source": [
    "2\\. The swap function\n",
    "\n",
    "Write a function that swap the values of two input variables x and y (whatever the type). Try to do that also without a temporary variable"
   ]
  },
  {
   "cell_type": "code",
   "execution_count": 13,
   "metadata": {},
   "outputs": [
    {
     "name": "stdout",
     "output_type": "stream",
     "text": [
      "('uai', 'ics')\n"
     ]
    }
   ],
   "source": [
    "\n",
    "#with temporary variable\n",
    "def swap1(x, y):\n",
    "    temp1 = x\n",
    "    x = y\n",
    "    y = temp1\n",
    "    return x,y\n",
    "\n",
    "x = \"ics\"\n",
    "y = \"uai\"\n",
    "print(swap1(x, y))"
   ]
  },
  {
   "cell_type": "code",
   "execution_count": 14,
   "metadata": {},
   "outputs": [
    {
     "name": "stdout",
     "output_type": "stream",
     "text": [
      "('omega', 'alpha')\n"
     ]
    }
   ],
   "source": [
    "#without temporary variable\n",
    "def swap2(x, y):\n",
    "    return y, x\n",
    "\n",
    "print(swap2(\"alpha\", \"omega\"))"
   ]
  },
  {
   "cell_type": "markdown",
   "metadata": {},
   "source": [
    "3\\. Computing the distance\n",
    "\n",
    "Write a function that calculates and returns the euclidean distance between two points *u* and *v*, where *u* and *v* are both 2-tuples *(x,y)*. For example, if *u=(3,0)* and *v=(0,4)*, the function should return 5"
   ]
  },
  {
   "cell_type": "code",
   "execution_count": 16,
   "metadata": {},
   "outputs": [
    {
     "name": "stdout",
     "output_type": "stream",
     "text": [
      "5.0\n"
     ]
    }
   ],
   "source": [
    "import math as mt\n",
    "\n",
    "def eucl_dist(u, v):\n",
    "    return mt.sqrt( (u[0] - v[0])**2 + (u[1] - v[1])**2 )\n",
    "\n",
    "u = (3, 0)\n",
    "v = (0, 4)\n",
    "print(eucl_dist(u, v))"
   ]
  },
  {
   "cell_type": "markdown",
   "metadata": {},
   "source": [
    "4\\. Counting letters\n",
    "\n",
    "Write a program to calculate the number of times each character occurs in a given string *s*. Ignore differneces in capitalization"
   ]
  },
  {
   "cell_type": "code",
   "execution_count": 27,
   "metadata": {},
   "outputs": [
    {
     "name": "stdout",
     "output_type": "stream",
     "text": [
      "a  occurs  7  times\n",
      "b  occurs  5  times\n",
      "c  occurs  3  times\n",
      "d  occurs  3  times\n",
      "e  occurs  22  times\n",
      "f  occurs  10  times\n",
      "g  occurs  1  times\n",
      "w  occurs  2  times\n"
     ]
    }
   ],
   "source": [
    "s=\"Write a program that prints the numbers from 1 to 100. \\\n",
    "But for multiples of three print Mickey instead of the number and for the multiples of five print Mouse. \\\n",
    "For numbers which are multiples of both three and five print MickeyMouse\"\n",
    "\n",
    "alphabet = (\"a\", \"b\", \"c\", \"d\", \"e\", \"f\", \"g\", \"w\")\n",
    "for c in alphabet:\n",
    "    print(c, \" occurs \", s.count(c) + s.count(c.capitalize()), \" times\")"
   ]
  },
  {
   "cell_type": "markdown",
   "metadata": {},
   "source": [
    "5\\. Isolating the unique\n",
    "\n",
    "Write a function that determines and count the unique numbers in the list *l*"
   ]
  },
  {
   "cell_type": "code",
   "execution_count": 30,
   "metadata": {},
   "outputs": [
    {
     "name": "stdout",
     "output_type": "stream",
     "text": [
      "37 [1, 5, 8, 9, 10, 16, 18, 19, 24, 30, 33, 37, 39, 41, 47, 53, 54, 55, 57, 58, 64, 72, 74, 75, 79, 81, 82, 86, 87, 88, 90, 92, 94, 95, 96, 98, 99]\n"
     ]
    }
   ],
   "source": [
    "l = [36, 45, 58, 3, 74, 96, 64, 45, 31, 10, 24, 19, 33, 86, 99, 18, 63, 70, 85,\n",
    " 85, 63, 47, 56, 42, 70, 84, 88, 55, 20, 54, 8, 56, 51, 79, 81, 57, 37, 91,\n",
    " 1, 84, 84, 36, 66, 9, 89, 50, 42, 91, 50, 95, 90, 98, 39, 16, 82, 31, 92, 41,\n",
    " 45, 30, 66, 70, 34, 85, 94, 5, 3, 36, 72, 91, 84, 34, 87, 75, 53, 51, 20, 89, 51, 20]\n",
    "\n",
    "def my_func(list):\n",
    "    new_list = []\n",
    "    c = 0\n",
    "    for n in list:\n",
    "        if list.count(n) == 1:\n",
    "            new_list.append(n)\n",
    "            c += 1\n",
    "    new_list.sort()\n",
    "    print(c, new_list)\n",
    "my_func(l)"
   ]
  },
  {
   "cell_type": "markdown",
   "metadata": {},
   "source": [
    "6\\. Combination of functions\n",
    "\n",
    "Write two functions - one that returns the square of a number, and one that returns the cube. Now write a third function that returns the number raised to the 6th power using the two previous functions."
   ]
  },
  {
   "cell_type": "code",
   "execution_count": 31,
   "metadata": {},
   "outputs": [
    {
     "name": "stdout",
     "output_type": "stream",
     "text": [
      "64\n"
     ]
    }
   ],
   "source": [
    "def square(x): return x**2\n",
    "def cube(x): return x**3\n",
    "def six(x): return cube(square(x))\n",
    "\n",
    "print(six(2))"
   ]
  },
  {
   "cell_type": "markdown",
   "metadata": {},
   "source": [
    "7\\. Cubes\n",
    "\n",
    "Create a list of the cubes of x for x in *[0, 10]* using:\n",
    "\n",
    "a) a for loop\n",
    "\n",
    "b) a list comprehension"
   ]
  },
  {
   "cell_type": "code",
   "execution_count": 32,
   "metadata": {},
   "outputs": [
    {
     "name": "stdout",
     "output_type": "stream",
     "text": [
      "[0, 1, 8, 27, 64, 125, 216, 343, 512, 729, 1000]\n"
     ]
    }
   ],
   "source": [
    "#for loop\n",
    "\n",
    "l = []\n",
    "for n in range(0, 11):\n",
    "    l.append(n**3)\n",
    "print(l)"
   ]
  },
  {
   "cell_type": "code",
   "execution_count": 33,
   "metadata": {},
   "outputs": [
    {
     "name": "stdout",
     "output_type": "stream",
     "text": [
      "[1, 8, 27, 64, 125, 216, 343, 512, 729, 1000]\n"
     ]
    }
   ],
   "source": [
    "#list comprehension\n",
    "\n",
    "l = [x**3 for x in range(1, 11)]\n",
    "print(l)"
   ]
  },
  {
   "cell_type": "markdown",
   "metadata": {},
   "source": [
    "8\\. Nested list comprehension\n",
    "\n",
    "A Pythagorean triple is an integer solution to the Pythagorean theorem $a^2+b^2=c^2$. The first Pythagorean triple is (3,4,5). Find and put in a tuple all unique Pythagorean triples for the positive integers a, b and c less than 100."
   ]
  },
  {
   "cell_type": "code",
   "execution_count": 42,
   "metadata": {},
   "outputs": [
    {
     "data": {
      "text/plain": [
       "[(3, 4, 5.0),\n",
       " (6, 8, 10.0),\n",
       " (5, 12, 13.0),\n",
       " (9, 12, 15.0),\n",
       " (8, 15, 17.0),\n",
       " (12, 16, 20.0),\n",
       " (15, 20, 25.0),\n",
       " (20, 21, 29.0),\n",
       " (7, 24, 25.0),\n",
       " (10, 24, 26.0),\n",
       " (18, 24, 30.0),\n",
       " (21, 28, 35.0),\n",
       " (16, 30, 34.0),\n",
       " (24, 32, 40.0),\n",
       " (12, 35, 37.0),\n",
       " (15, 36, 39.0),\n",
       " (27, 36, 45.0),\n",
       " (9, 40, 41.0),\n",
       " (30, 40, 50.0),\n",
       " (40, 42, 58.0),\n",
       " (33, 44, 55.0),\n",
       " (24, 45, 51.0),\n",
       " (28, 45, 53.0),\n",
       " (14, 48, 50.0),\n",
       " (20, 48, 52.0),\n",
       " (36, 48, 60.0),\n",
       " (39, 52, 65.0),\n",
       " (48, 55, 73.0),\n",
       " (33, 56, 65.0),\n",
       " (42, 56, 70.0),\n",
       " (11, 60, 61.0),\n",
       " (25, 60, 65.0),\n",
       " (32, 60, 68.0),\n",
       " (45, 60, 75.0),\n",
       " (16, 63, 65.0),\n",
       " (60, 63, 87.0),\n",
       " (48, 64, 80.0),\n",
       " (51, 68, 85.0),\n",
       " (24, 70, 74.0),\n",
       " (21, 72, 75.0),\n",
       " (30, 72, 78.0),\n",
       " (54, 72, 90.0),\n",
       " (65, 72, 97.0),\n",
       " (40, 75, 85.0),\n",
       " (57, 76, 95.0),\n",
       " (36, 77, 85.0),\n",
       " (18, 80, 82.0),\n",
       " (39, 80, 89.0),\n",
       " (13, 84, 85.0),\n",
       " (35, 84, 91.0)]"
      ]
     },
     "execution_count": 42,
     "metadata": {},
     "output_type": "execute_result"
    }
   ],
   "source": [
    "import math as mt\n",
    "triple = []\n",
    "for n in range(1, 101):\n",
    "    for m in range(1, 101):\n",
    "        if (mt.sqrt(n**2 + m**2) < 100) and (mt.sqrt(n**2 + m**2).is_integer()) and (n > m):\n",
    "            triple.append((m, n, mt.sqrt(m**2 + n**2)))\n",
    "triple"
   ]
  },
  {
   "cell_type": "markdown",
   "metadata": {},
   "source": [
    "9\\. Normalization\n",
    "\n",
    "Write a function that takes a tuple of numbers and returns it with the entries normalized to one"
   ]
  },
  {
   "cell_type": "code",
   "execution_count": 34,
   "metadata": {},
   "outputs": [
    {
     "name": "stdout",
     "output_type": "stream",
     "text": [
      "1.7320508075688772\n"
     ]
    }
   ],
   "source": [
    "import math as mt\n",
    "\n",
    "def norm(t): \n",
    "    return mt.sqrt(t[0]**2 + t[1]**2 + t[2]**2)\n",
    "t = (1, 1, 1)\n",
    "print(norm(t))"
   ]
  }
 ],
 "metadata": {
  "kernelspec": {
   "display_name": "Python 3",
   "language": "python",
   "name": "python3"
  },
  "language_info": {
   "codemirror_mode": {
    "name": "ipython",
    "version": 3
   },
   "file_extension": ".py",
   "mimetype": "text/x-python",
   "name": "python",
   "nbconvert_exporter": "python",
   "pygments_lexer": "ipython3",
   "version": "3.12.2"
  }
 },
 "nbformat": 4,
 "nbformat_minor": 2
}
