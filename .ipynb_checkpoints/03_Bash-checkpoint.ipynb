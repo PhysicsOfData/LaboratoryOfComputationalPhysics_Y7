{
 "cells": [
  {
   "cell_type": "markdown",
   "metadata": {},
   "source": [
    "## Beyond \"clicking\", Shell as a necessity for proficent data analysis and computing\n",
    "\n",
    "\"Clicking\" is for amatours, so stop doing that. When dealing with advanced computing and analysis tasks, it is needed to operate by means of shell commands and scripting. That is the case for several puroposes: file system managment, low level operations, advanced local and remote configurations, access and management of remote resources, etc.\n",
    "\n",
    "Several languages exists (all rather similar to each other), we will review BASH, a default interpreter on many GNU/Linux systems. The MacOS application is `Terminal`, which used BASH until Catilina, then ZSH (almost the same).\n",
    "Something similar must exist for Windows, but I dunno & I dontcare.\n",
    "\n"
   ]
  },
  {
   "cell_type": "markdown",
   "metadata": {},
   "source": [
    "## Bash Shell Scripting \n",
    "\n",
    "### Bash --> language\n",
    "\n",
    "The name is an acronym for the ‘Bourne-Again SHell’.From its [wiki page](https://en.wikipedia.org/wiki/Bash_(Unix_shell):\n",
    "```text\n",
    "Bash is a command processor that typically runs in a text window where the user types commands that cause actions. Bash can also read and execute commands from a file, called a shell script. Like most Unix shells, it supports filename globbing (wildcard matching), piping, here documents, command substitution, variables, and control structures for condition-testing and iteration.\n",
    "```\n",
    "\n",
    "### Shell --> where I write\n",
    "Shell is a macro processor which allows for an interactive or non-interactive command execution.\n",
    "\n",
    "### Scripting\n",
    "Scripting allows for an automatic commands execution that would otherwise be executed interactively one-by-one.\n",
    "\n",
    "\n",
    "\n"
   ]
  },
  {
   "cell_type": "markdown",
   "metadata": {},
   "source": [
    "## About this notebook\n",
    "\n",
    "In the following we will explore the basic functionalities of bash, scrating the surface of an incredibly rich application. As for python, the web extensively provides documentation for all you'll ever need to do; the same and more do the LLM (e.g. GPT or Claude). \n",
    "The command `man` is anyway available for all the commands (most of which has also the `-help` option available).\n",
    "\n",
    "Note that Jupyter allows execution of bash commands (and scripts) within a python notebook or by means of a dedicated emulator of a Terminal.\n",
    "\n",
    "The code exposed in the following is however meant to be copied and tried on your computer shell. Scripts are meant to be edited on dedicated files, by means of your preferred text [editor](https://www.javatpoint.com/linux-text-editors)."
   ]
  },
  {
   "cell_type": "markdown",
   "metadata": {},
   "source": [
    "## Navigating/exploring the file system\n"
   ]
  },
  {
   "cell_type": "markdown",
   "metadata": {},
   "source": [
    "```bash\n",
    "\n",
    "#this is a comment\n",
    "\n",
    "# who am I? I.e. which account am I using?\n",
    "whoami\n",
    "\n",
    "# Am I a superuser? --> superuser do -something\n",
    "sudo -l\n",
    "\n",
    "# what's the name of the computer\n",
    "hostname\n",
    "\n",
    "# where am I?\n",
    "pwd\n",
    "# the current directory is aliased as \".\", \"..\" is the one above. pwd returns the content of the global variable $PWD, see later  \n",
    "\n",
    "# go to a given directory\n",
    "# go to the directory above\n",
    "cd .. \n",
    "# get back to the previous directory\n",
    "cd -  \n",
    "# go to your home directory \n",
    "cd $HOME\n",
    "\n",
    "# make a new directory\n",
    "mkdir test\n",
    "cd test\n",
    "mkdir -p tmp/foo \n",
    "# delete that last directory\n",
    "rm -r tmp/foo #the \"-r\" option is needed for directories\n",
    "\n",
    "# check the amount of data in your home\n",
    "du -h $HOME\n",
    "# check the memory usage for the main folders\n",
    "df -h\n",
    "\n",
    "# check the content of a directory\n",
    "touch tmp_file #create a file just for the sake of it (see later)\n",
    "ls -latrh \n",
    "# where: -l -> list, -a -> include hidden directories, -t -> time ordered, -r -> reversed, h -> size in Bytes \n",
    "```"
   ]
  },
  {
   "cell_type": "code",
   "execution_count": null,
   "metadata": {},
   "outputs": [],
   "source": []
  },
  {
   "cell_type": "markdown",
   "metadata": {},
   "source": [
    "### Anatomy of \"ls -l\" output\n",
    "\n",
    "The output presents 7 fields, standing for:\n",
    "\n",
    "1. Permissions\n",
    "2. Number of hardlinks\n",
    "3. File owner\n",
    "4. File group\n",
    "5. File size\n",
    "6. Modification time\n",
    "7. Filename\n",
    "\n",
    "The first one can be intepreted as \n",
    "`File type - Owner permissions - Group permissions - Everyone permissions`\n",
    "\n",
    "where permissions are indicated as:\n",
    "\n",
    "\n",
    "\"r\" = read permission,\n",
    "\"w\" = write permission,\n",
    "\"x\" = execute permission,\n",
    "\"-\" = no permission\n",
    "\n"
   ]
  },
  {
   "cell_type": "markdown",
   "metadata": {},
   "source": [
    "## Files managment\n",
    "\n",
    "Check the related [wiki page](https://en.wikipedia.org/wiki/Chmod) for the syntax of permissions changing\n"
   ]
  },
  {
   "cell_type": "markdown",
   "metadata": {},
   "source": [
    "``` bash\n",
    "# add some text to a file\n",
    "echo \"Add some text to a file\" > tmp_file \n",
    "more tmp_file \n",
    "\n",
    "# Use \">\" to replace whatever was there before \n",
    "echo \"Add some other text to a file\" > tmp_file \n",
    "more tmp_file \n",
    "\n",
    "# Use \">>\" to append text to whatever was there before\n",
    "echo \"Append text to a file\" >> tmp_file \n",
    "more tmp_file \n",
    "\n",
    "# change permissions (in this specific case allow \"others\" to read and write that file\n",
    "ls -l tmp_file\n",
    "chmod o+rw tmp_file\n",
    "ls -l tmp_file\n",
    "\n",
    "# copy files (absolute path can be specified of course)\n",
    "cp tmp_file ./tmp_file_copy\n",
    "\n",
    "# remove files\n",
    "rm tmp_file_copy\n",
    "\n",
    "# find a file\n",
    "# the syntax is: find /path/to/dir -name \"filename\" \n",
    "cd ../\n",
    "find . -name \"tmp_file\"\n",
    "find . -name \"tmp*\"\n",
    "cd -\n",
    "\n",
    "```   "
   ]
  },
  {
   "cell_type": "markdown",
   "metadata": {},
   "source": [
    "## Regular Expressions (RegExp)\n",
    "\n",
    "Regular expressions are a very powerful tool for string manipulation, text find&replace, etc. Its syntax -although not obvious and complex- is used in several programming languages and is worth learning. This is one of the cases where consulting the manual(s) regularly is rather unavoidable.\n",
    "\n",
    "In the following will we use regexp with `grep` and `sed`.\n",
    "\n",
    "Copy the following into a file named data.csv"
   ]
  },
  {
   "cell_type": "raw",
   "metadata": {},
   "source": [
    "# Recorded data from sensor XaB.v2\n",
    "# Recording started on Oct 29 15:00:00\n",
    "# Recording ended on Oct 29 15:15:59\n",
    "# X, Y, Z, X', Y', Z'\n",
    "55, 14, 48, 62, 78, 41\n",
    "32, 52, 94, 11, 17, 83\n",
    "83, 13, 61, 69, 44, 39\n",
    "77, 34, 34, 2, 93, 24\n",
    "25, 28, 49, 92, 3, 8\n",
    "44, 87, 63, 62, 23, 98\n",
    "90, 20, 6, 79, 32, 30\n",
    "73, 91, 41, 36, 0, 93\n",
    "63, 96, 17, 56, 30, 81\n",
    "37, 56, 35, 90, 69, 35\n",
    "32, 54, 87, 61, 81, 99\n",
    "21, 77, 47, 54, 99, 36\n",
    "93, 7, 85, 12, 67, 16\n",
    "65, 53, 27, 59, 98, 94\n",
    "23, 7, 59, 19, 75, 13\n",
    "47, 68, 79, 83, 81, 86\n",
    "51, 49, 84, 96, 71, 94\n",
    "23, 99, 9, 17, 55, 70\n",
    "49, 79, 62, 51, 6, 96\n",
    "56, 16, 51, 18, 11, 23\n",
    "98, 0, 78, 80, 75, 53\n",
    "77, 30, 58, 41, 86, 17\n",
    "93, 40, 62, 37, 92, 20\n",
    "30, 86, 63, 45, 70, 99\n",
    "2, 63, 89, 41, 95, 84\n",
    "77, 10, 87, 24, 2, 86\n",
    "43, 17, 82, 21, 52, 12\n",
    "33, 65, 98, 38, 19, 10\n",
    "52, 17, 68, 26, 61, 5\n",
    "39, 94, 40, 99, 48, 20\n",
    "58, 79, 79, 69, 71, 64\n",
    "6, 12, 97, 4, 16, 98\n",
    "79, 0, 40, 83, 49, 65\n",
    "51, 13, 29, 84, 62, 29\n",
    "60, 34, 12, 1, 12, 32\n",
    "36, 92, 15, 44, 82, 60\n",
    "6, 10, 72, 22, 62, 62\n",
    "69, 98, 3, 34, 16, 61\n",
    "21, 25, 2, 24, 93, 45\n",
    "82, 18, 2, 79, 51, 73\n",
    "93, 57, 75, 52, 77, 27\n",
    "10, 61, 93, 79, 74, 67\n",
    "6, 45, 94, 67, 68, 63\n",
    "2, 54, 8, 32, 86, 49\n",
    "60, 52, 22, 1, 19, 73\n",
    "78, 70, 87, 87, 39, 86\n",
    "0, 66, 89, 61, 28, 42\n",
    "85, 36, 81, 45, 49, 80\n",
    "96, 31, 82, 32, 88, 15\n",
    "70, 95, 3, 53, 31, 48"
   ]
  },
  {
   "cell_type": "markdown",
   "metadata": {},
   "source": [
    "``` bash\n",
    "# get the line with \"sensor\"\n",
    "grep \"sensor\" data.csv\n",
    "\n",
    "# get the metadata\n",
    "grep \"^#\" data.csv \n",
    "\n",
    "# get the data payload (all lines w/o \"#\" at the beginning)\n",
    "grep -v \"^#\" data.csv \n",
    "\n",
    "# count the number of lines in the data payload\n",
    "grep -c -v \"^#\" data.csv \n",
    "\n",
    "# look for the sensor by name\n",
    "grep \"X[a-z].v*\" data.csv \n",
    "# searches are case sensistive:\n",
    "grep \"X[A-Z].v*\" data.csv \n",
    "\n",
    "# use cut to get part of the line, in this case the starting time\n",
    "grep \"started\" data.csv | cut -f7 -d \" \"\n",
    "\n",
    "# substitute Oct with Nov\n",
    "sed -e \"s/Oct/Nov/\" data.csv\n",
    "\n",
    "# Add \".0\" to all single digit number\n",
    "sed -e \"s/\\b[0-9]\\{1\\}\\b/&.0/\" data.csv \n",
    "\n",
    "```"
   ]
  },
  {
   "cell_type": "markdown",
   "metadata": {},
   "source": [
    "## Variables\n",
    "\n",
    "variables can be global or local. The latter are set in the usual intuitive manner, the former requires the `export` command. Variable are accessed by preposing the `$` character.\n",
    "Global variables are used extensively by applications you don't have/don't want to have control of, thus do not mess with them unless you know what you are doing. Global variables typically use capital letters, thus for your own variable is best to use lower case letters.\n",
    "The command `env` list all the global variables currently set.\n",
    "An example of global variable is `PATH`, i.e. the list of folders containing the executables you can run without specifying the absolute path.\n"
   ]
  },
  {
   "cell_type": "markdown",
   "metadata": {},
   "source": [
    "``` bash\n",
    "# the whole list of global variables\n",
    "env\n",
    "\n",
    "# what is your PATH?\n",
    "echo $PATH\n",
    "\n",
    "# set your own global variable?\n",
    "export MY_GLOBAL_VARIABLE=pippo\n",
    "echo $MY_GLOBAL_VARIABLE\n",
    " \n",
    "# set your local variable\n",
    "variable=7\n",
    "echo $variable\n",
    "\n",
    "```"
   ]
  },
  {
   "cell_type": "markdown",
   "metadata": {},
   "source": [
    "## Standard output, Standard error\n",
    "\n",
    "Every time a command is executed, three possible outcomes might happen: 1) the command will produce an expected output 2) the command will generate an error 3)the command produces no output at all.\n",
    "\n",
    "It happens often that the need is there (e.g. for logging purposes) to store the output in separate files.\n",
    "The `>` notation is used to redirect stdout to a file whereas `2>` notation is used to redirect stderr and `&>` is used to redirect both stdout and stderr.\n",
    "\n"
   ]
  },
  {
   "cell_type": "markdown",
   "metadata": {},
   "source": [
    "```bash\n",
    "\n",
    "# some stderr\n",
    "ls -l pippo\n",
    "ls -l pippo 2> err.txt\n",
    "more err.txt \n",
    "ls -l pippo > err.txt\n",
    "more err.txt \n",
    "\n",
    "# some stdout\n",
    "ls -l err.txt > log.txt\n",
    "more log.txt \n",
    "\n",
    "# redirect everything\n",
    "ls -l pippo err.txt &> log.txt\n",
    "more log.txt \n",
    "\n",
    "```"
   ]
  },
  {
   "cell_type": "markdown",
   "metadata": {},
   "source": [
    "## Numeric and string comparison, operations with numbers\n",
    "\n",
    "The following table summarizes how to compare numbers and strings.\n",
    "\n",
    "| Description | Numeric Comparison | String Comparison\n",
    "| ----------- | ----------- | ----------- |\n",
    "| less then   | -lt  | <  |\n",
    "| greater equal | -gt  | >  |  \n",
    "| equal | -e | = |\n",
    "| not equal | -ne | != |\n",
    "| less or equal | -le | N.A. |\n",
    "| greater or equal | -ge | N.A. | \n",
    "\n",
    "Funny enough, the result of a comparison is 1 if False and 0 if True.\n",
    "The following is a trick to access directly the result of the comparison; those are used mainly in conditional statements"
   ]
  },
  {
   "cell_type": "markdown",
   "metadata": {},
   "source": [
    "``` bash\n",
    "# setting variables\n",
    "a=1\n",
    "b=2\n",
    "\n",
    "# the comparison (note the square brakets)\n",
    "[ $a -lt $b ]\n",
    "# to check the result of the former operation\n",
    "echo $?\n",
    "\n",
    "[ $a -gt $b ]; echo $?\n",
    "[ $a -ne $b ]; echo $?\n",
    "```"
   ]
  },
  {
   "cell_type": "markdown",
   "metadata": {},
   "source": [
    "Aritmetic operations can be done in several ways. Quite common is the usage of \n",
    "Arithmetic Expansion, thanks to its simplicity (trading off though with the complexity of the permitted operations). Other tool are there like `expr` or `let`, we will provide examples with `bc`, which is rather intuitive and powerful."
   ]
  },
  {
   "cell_type": "markdown",
   "metadata": {},
   "source": [
    "```bash\n",
    "# Aritmetic Expansions\n",
    "echo $(( 10*5 + 15 ))\n",
    "echo $(( $a + $b*3 ))\n",
    "\n",
    "# bc\n",
    "echo '8.5 / 2.3' | bc\n",
    "sqr=$( echo 'scale=6;sqrt(2)' | bc)\n",
    "echo $sqr\n",
    "\n",
    "```"
   ]
  },
  {
   "cell_type": "markdown",
   "metadata": {},
   "source": [
    "## Conditional statements\n",
    "\n",
    "As in every other language, conditional statements are of paramount importance and exploited exstensively also in bash. They best fit in a script (see later), but can be used also on the command line. The syntax is similar to the other languages\n",
    "\n"
   ]
  },
  {
   "cell_type": "markdown",
   "metadata": {},
   "source": [
    "```bash\n",
    "a=400\n",
    "b=200\n",
    "\n",
    "# an inline command\n",
    "if [ $a -gt $b ]; then echo \"$a is greater than $b! \"; fi\n",
    "\n",
    "# the following needs to go in a script\n",
    "if [ $a -lt $b ]; then\n",
    "    echo \"$a is less than $b! \"\n",
    "else\n",
    "    echo \"$a is greater than $b! \"\n",
    "fi\n",
    "```"
   ]
  },
  {
   "cell_type": "markdown",
   "metadata": {},
   "source": [
    "## Loops\n",
    "\n",
    "same considerations as for conditional statements apply for loop cycles. \n",
    "There are several ways they can be implemented, we will review a few of them"
   ]
  },
  {
   "cell_type": "markdown",
   "metadata": {},
   "source": [
    "```bash\n",
    "# some for loops syntax\n",
    "for i in 1 2 3; do echo $i; done\n",
    "\n",
    "for i in {1..10}; do echo $i; done\n",
    "\n",
    "for i in $(seq 1 2 20); do echo $i; done\n",
    "\n",
    "for (( i=1; i<=5; i++ )); do echo $i; done\n",
    "\n",
    "for i in `ls .`; do echo $i; done \n",
    "\n",
    "for file in ./*; do if [ \"${file}\" == \"./log.txt\" ]; then break; fi; echo $file; done\n",
    "\n",
    "# while (and until) works too\n",
    "counter=0                                                                               \n",
    "while [ $counter -lt 3 ]; do let counter+=1; echo $counter; done\n",
    "\n",
    "```"
   ]
  },
  {
   "cell_type": "markdown",
   "metadata": {},
   "source": [
    "## Scripting\n",
    "\n",
    "All the instructions above (and many many more) can be put together into a script. An example follows:"
   ]
  },
  {
   "cell_type": "markdown",
   "metadata": {},
   "source": [
    "```bash\n",
    "#!/bin/bash\n",
    "\n",
    "# checking if the user provided an input\n",
    "if [ -z $1 ]\n",
    "then\n",
    "    echo \"this script requires as input the name of the file to be created\"\n",
    "    exit\n",
    "fi\n",
    "\n",
    "# check if the file is there\n",
    "if [ ! -f \"./$1\" ]\n",
    "then\n",
    "    echo \"the file ./$1 does not exist! Setting a default value\"\n",
    "    file=\"newfile.txt\"\n",
    "else\n",
    "    file=./$1\n",
    "fi\n",
    "\n",
    "touch $file\n",
    "\n",
    "for (( i=1; i<=5; i++ ))\n",
    "do\n",
    "    echo \"add line $i\" >> $file\n",
    "done\n",
    "```"
   ]
  },
  {
   "cell_type": "markdown",
   "metadata": {},
   "source": [
    "The initial statement `#!/bin/bash` tell the shell how to interpret the subsequent commands.\n",
    "\n",
    "You can save those lines on a new file (e.g. `my_script.sh`) and try to run it. First you may want to make it executalbe"
   ]
  },
  {
   "cell_type": "markdown",
   "metadata": {},
   "source": [
    "```bash\n",
    "chmod +x my_script.sh\n",
    "\n",
    "./my_script.sh output.txt\n",
    "```"
   ]
  },
  {
   "cell_type": "markdown",
   "metadata": {},
   "source": [
    "## Documentation\n",
    "\n",
    "As mentioned above, there is plenty of documentation available directly via `man` or on the internet. A rather important command is `history` which list the set of commands provided in the current shell. After an intense session of operations on the shell, you may want to run it and pipe its stdout into a log file for later consultation"
   ]
  }
 ],
 "metadata": {
  "kernelspec": {
   "display_name": "Python 3",
   "language": "python",
   "name": "python3"
  },
  "language_info": {
   "codemirror_mode": {
    "name": "ipython",
    "version": 3
   },
   "file_extension": ".py",
   "mimetype": "text/x-python",
   "name": "python",
   "nbconvert_exporter": "python",
   "pygments_lexer": "ipython3",
   "version": "3.6.8"
  }
 },
 "nbformat": 4,
 "nbformat_minor": 5
}
